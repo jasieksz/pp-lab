{
 "cells": [
  {
   "cell_type": "markdown",
   "metadata": {},
   "source": [
    "# Kod"
   ]
  },
  {
   "cell_type": "code",
   "execution_count": null,
   "metadata": {},
   "outputs": [],
   "source": [
    "#!/usr/bin/env bash\n",
    "\n",
    "set -x\n",
    "\n",
    "mpiexec  -machinefile ./same_host -np 2 ./timer.py | tee results/1_shm_host.csv\n",
    "MPIR_CVAR_CH3_NOLOCAL=1 mpiexec  -machinefile ./same_host -np 2 ./timer.py | tee results/2_net_host.csv\n",
    "MPIR_CVAR_CH3_NOLOCAL=1 mpiexec  -machinefile ./same_machine -np 2 ./timer.py | tee results/3_net_machine.csv\n",
    "MPIR_CVAR_CH3_NOLOCAL=1 mpiexec -machinefile ./different_machine -np 2 ./timer.py | tee results/4_net_diff.csv"
   ]
  },
  {
   "cell_type": "markdown",
   "metadata": {},
   "source": [
    "* same_host \n",
    " - `vnode-03.dydaktyka.icsr.agh.edu.pl:2`\n",
    "* same_machine \n",
    " - `vnode-02.dydaktyka.icsr.agh.edu.pl:1`\n",
    " - `vnode-03.dydaktyka.icsr.agh.edu.pl:1`\n",
    "* different_machine\n",
    " - `vnode-03.dydaktyka.icsr.agh.edu.pl:1`\n",
    " - `vnode-04.dydaktyka.icsr.agh.edu.pl:1`"
   ]
  },
  {
   "cell_type": "code",
   "execution_count": null,
   "metadata": {},
   "outputs": [],
   "source": [
    "#!/usr/bin/env python2\n",
    "import sys\n",
    "import gc\n",
    "import numpy as np\n",
    "from mpi4py import MPI\n",
    "\n",
    "\n",
    "def gen_lengths(max_len):\n",
    "    x = 1\n",
    "    while x < max_len:\n",
    "        yield int(x)\n",
    "        if x < 50:\n",
    "            x += 5\n",
    "        else:\n",
    "            x *= 1.8\n",
    "\n",
    "if __name__ == \"__main__\":\n",
    "    comm = MPI.COMM_WORLD\n",
    "    rank = comm.Get_rank()\n",
    "\n",
    "    results = []\n",
    "    iterations = 100\n",
    "\n",
    "    for i in range(3):\n",
    "        rst = []\n",
    "        for payload_size in gen_lengths(max_len=(2**26)):\n",
    "\n",
    "            payload_bytes = bytearray(payload_size)\n",
    "            gc.collect()\n",
    "\n",
    "            comm.Barrier()\n",
    "            start_reg = MPI.Wtime()\n",
    "            for _ in xrange(iterations):\n",
    "                if rank == 0:\n",
    "                    comm.send(payload_bytes, dest=1)\n",
    "                elif rank == 1:\n",
    "                    comm.recv(source=0)\n",
    "            end_reg = MPI.Wtime()\n",
    "\n",
    "            comm.Barrier()\n",
    "            start_sync = MPI.Wtime()\n",
    "            for _ in xrange(iterations):\n",
    "                if rank == 0:\n",
    "                    comm.ssend(payload_bytes, dest=1)\n",
    "                elif rank == 1:\n",
    "                    comm.recv(source=0)\n",
    "            end_sync = MPI.Wtime()\n",
    "            comm.Barrier()\n",
    "\n",
    "            m_bit_per_second_reg = ((8 * payload_size * iterations)/(end_reg - start_reg)) / 10**6\n",
    "            m_bit_per_second_sync = ((8 * payload_size * iterations)/(end_sync - start_sync)) / 10**6\n",
    "            rst.append((payload_size, m_bit_per_second_reg, m_bit_per_second_sync))\n",
    "        results.append(rst)\n",
    "        \n",
    "    if rank == 0:\n",
    "        x = np.array(results)\n",
    "        x = np.array(x.transpose().mean(axis=-1)).transpose()\n",
    "        print 'size;bandwidth(reg);bandwidth(sync)'\n",
    "        for r in x:\n",
    "            print '%d;%f;%f' % (r[0], r[1], r[2])          "
   ]
  },
  {
   "cell_type": "markdown",
   "metadata": {},
   "source": [
    "# Sprawozdanie"
   ]
  },
  {
   "cell_type": "code",
   "execution_count": 4,
   "metadata": {},
   "outputs": [],
   "source": [
    "from matplotlib import pyplot as plt\n",
    "import numpy as np \n",
    "import pandas as pd"
   ]
  },
  {
   "cell_type": "code",
   "execution_count": 5,
   "metadata": {},
   "outputs": [],
   "source": [
    "%matplotlib inline"
   ]
  },
  {
   "cell_type": "markdown",
   "metadata": {},
   "source": [
    "## Parametry\n",
    "* Tryby komunikacji: standardowy i synchronizowany\n",
    "* Każdy pomiar był przeprowadzany 3 razy, końcowy wynik to średnia\n",
    "* Przepustowość: `(8 * payload_size * iterations)/(end - start)) / 10**6`, gdzie `iterations = 100`\n",
    "* Payload: `payload = bytearray(payload_size)`, w rozmiarach od ***1 B*** do ***4 MB***"
   ]
  },
  {
   "cell_type": "markdown",
   "metadata": {},
   "source": [
    "## Wpływ typu payloadu na przepustowość"
   ]
  },
  {
   "cell_type": "code",
   "execution_count": 24,
   "metadata": {},
   "outputs": [
    {
     "name": "stdout",
     "output_type": "stream",
     "text": [
      "1048576\n",
      "1048674\n",
      "1048633\n"
     ]
    }
   ],
   "source": [
    "import sys\n",
    "length = 2**20\n",
    "print(length)\n",
    "print(sys.getsizeof(\"a\"*length)+sys.getsizeof(\"\"))\n",
    "print(sys.getsizeof(bytearray(length)))"
   ]
  },
  {
   "cell_type": "code",
   "execution_count": 38,
   "metadata": {},
   "outputs": [
    {
     "data": {
      "text/html": [
       "<div>\n",
       "<style scoped>\n",
       "    .dataframe tbody tr th:only-of-type {\n",
       "        vertical-align: middle;\n",
       "    }\n",
       "\n",
       "    .dataframe tbody tr th {\n",
       "        vertical-align: top;\n",
       "    }\n",
       "\n",
       "    .dataframe thead th {\n",
       "        text-align: right;\n",
       "    }\n",
       "</style>\n",
       "<table border=\"1\" class=\"dataframe\">\n",
       "  <thead>\n",
       "    <tr style=\"text-align: right;\">\n",
       "      <th></th>\n",
       "      <th>size</th>\n",
       "      <th>bandwidth(str)</th>\n",
       "      <th>bandwidth(bytes)</th>\n",
       "    </tr>\n",
       "  </thead>\n",
       "  <tbody>\n",
       "    <tr>\n",
       "      <th>count</th>\n",
       "      <td>1.270000e+02</td>\n",
       "      <td>127.000000</td>\n",
       "      <td>127.000000</td>\n",
       "    </tr>\n",
       "    <tr>\n",
       "      <th>mean</th>\n",
       "      <td>3.506106e+05</td>\n",
       "      <td>10171.529396</td>\n",
       "      <td>1048.228346</td>\n",
       "    </tr>\n",
       "    <tr>\n",
       "      <th>std</th>\n",
       "      <td>8.756665e+05</td>\n",
       "      <td>9327.223621</td>\n",
       "      <td>859.172463</td>\n",
       "    </tr>\n",
       "    <tr>\n",
       "      <th>min</th>\n",
       "      <td>1.000000e+00</td>\n",
       "      <td>2.708187</td>\n",
       "      <td>0.000000</td>\n",
       "    </tr>\n",
       "    <tr>\n",
       "      <th>25%</th>\n",
       "      <td>1.060000e+02</td>\n",
       "      <td>446.745720</td>\n",
       "      <td>94.000000</td>\n",
       "    </tr>\n",
       "    <tr>\n",
       "      <th>50%</th>\n",
       "      <td>3.783000e+03</td>\n",
       "      <td>9050.955004</td>\n",
       "      <td>1219.000000</td>\n",
       "    </tr>\n",
       "    <tr>\n",
       "      <th>75%</th>\n",
       "      <td>1.345605e+05</td>\n",
       "      <td>18178.249245</td>\n",
       "      <td>1684.000000</td>\n",
       "    </tr>\n",
       "    <tr>\n",
       "      <th>max</th>\n",
       "      <td>4.770791e+06</td>\n",
       "      <td>28711.046326</td>\n",
       "      <td>3124.000000</td>\n",
       "    </tr>\n",
       "  </tbody>\n",
       "</table>\n",
       "</div>"
      ],
      "text/plain": [
       "               size  bandwidth(str)  bandwidth(bytes)\n",
       "count  1.270000e+02      127.000000        127.000000\n",
       "mean   3.506106e+05    10171.529396       1048.228346\n",
       "std    8.756665e+05     9327.223621        859.172463\n",
       "min    1.000000e+00        2.708187          0.000000\n",
       "25%    1.060000e+02      446.745720         94.000000\n",
       "50%    3.783000e+03     9050.955004       1219.000000\n",
       "75%    1.345605e+05    18178.249245       1684.000000\n",
       "max    4.770791e+06    28711.046326       3124.000000"
      ]
     },
     "execution_count": 38,
     "metadata": {},
     "output_type": "execute_result"
    }
   ],
   "source": [
    "path = \"results/str-vs-bytes-reg-shm.csv\"\n",
    "times = pd.read_csv(path, delimiter=';')\n",
    "times.describe()"
   ]
  },
  {
   "cell_type": "code",
   "execution_count": 41,
   "metadata": {},
   "outputs": [
    {
     "data": {
      "text/plain": [
       "Text(0.5, 0, 'Size [ B ]')"
      ]
     },
     "execution_count": 41,
     "metadata": {},
     "output_type": "execute_result"
    },
    {
     "data": {
      "image/png": "[encoded data removed]",
      "text/plain": [
       "<Figure size 720x504 with 1 Axes>"
      ]
     },
     "metadata": {
      "needs_background": "light"
     },
     "output_type": "display_data"
    }
   ],
   "source": [
    "p = times.plot(x='size', title='string vs byte payload', figsize=(10,7), color=['blue', 'orange'], linewidth=3)\n",
    "p.set_ylabel(\"Bandwidth [ Mb/s ]\")\n",
    "p.set_xlabel(\"Size [ B ]\")"
   ]
  },
  {
   "cell_type": "markdown",
   "metadata": {},
   "source": [
    "## Komunikacja przez pamięć współdzieloną"
   ]
  },
  {
   "cell_type": "code",
   "execution_count": 26,
   "metadata": {},
   "outputs": [
    {
     "data": {
      "text/html": [
       "<div>\n",
       "<style scoped>\n",
       "    .dataframe tbody tr th:only-of-type {\n",
       "        vertical-align: middle;\n",
       "    }\n",
       "\n",
       "    .dataframe tbody tr th {\n",
       "        vertical-align: top;\n",
       "    }\n",
       "\n",
       "    .dataframe thead th {\n",
       "        text-align: right;\n",
       "    }\n",
       "</style>\n",
       "<table border=\"1\" class=\"dataframe\">\n",
       "  <thead>\n",
       "    <tr style=\"text-align: right;\">\n",
       "      <th></th>\n",
       "      <th>size</th>\n",
       "      <th>bandwidth(reg)</th>\n",
       "      <th>bandwidth(sync)</th>\n",
       "    </tr>\n",
       "  </thead>\n",
       "  <tbody>\n",
       "    <tr>\n",
       "      <th>count</th>\n",
       "      <td>9.400000e+01</td>\n",
       "      <td>94.000000</td>\n",
       "      <td>94.000000</td>\n",
       "    </tr>\n",
       "    <tr>\n",
       "      <th>mean</th>\n",
       "      <td>3.177032e+05</td>\n",
       "      <td>1329.633063</td>\n",
       "      <td>1076.266418</td>\n",
       "    </tr>\n",
       "    <tr>\n",
       "      <th>std</th>\n",
       "      <td>7.799629e+05</td>\n",
       "      <td>1115.394473</td>\n",
       "      <td>835.789782</td>\n",
       "    </tr>\n",
       "    <tr>\n",
       "      <th>min</th>\n",
       "      <td>1.000000e+00</td>\n",
       "      <td>0.893633</td>\n",
       "      <td>0.748843</td>\n",
       "    </tr>\n",
       "    <tr>\n",
       "      <th>25%</th>\n",
       "      <td>1.310000e+02</td>\n",
       "      <td>114.022521</td>\n",
       "      <td>92.759692</td>\n",
       "    </tr>\n",
       "    <tr>\n",
       "      <th>50%</th>\n",
       "      <td>4.156000e+03</td>\n",
       "      <td>1690.001353</td>\n",
       "      <td>1438.330948</td>\n",
       "    </tr>\n",
       "    <tr>\n",
       "      <th>75%</th>\n",
       "      <td>1.309290e+05</td>\n",
       "      <td>1934.375769</td>\n",
       "      <td>1863.367764</td>\n",
       "    </tr>\n",
       "    <tr>\n",
       "      <th>max</th>\n",
       "      <td>4.119177e+06</td>\n",
       "      <td>3629.412577</td>\n",
       "      <td>2103.823049</td>\n",
       "    </tr>\n",
       "  </tbody>\n",
       "</table>\n",
       "</div>"
      ],
      "text/plain": [
       "               size  bandwidth(reg)  bandwidth(sync)\n",
       "count  9.400000e+01       94.000000        94.000000\n",
       "mean   3.177032e+05     1329.633063      1076.266418\n",
       "std    7.799629e+05     1115.394473       835.789782\n",
       "min    1.000000e+00        0.893633         0.748843\n",
       "25%    1.310000e+02      114.022521        92.759692\n",
       "50%    4.156000e+03     1690.001353      1438.330948\n",
       "75%    1.309290e+05     1934.375769      1863.367764\n",
       "max    4.119177e+06     3629.412577      2103.823049"
      ]
     },
     "execution_count": 26,
     "metadata": {},
     "output_type": "execute_result"
    }
   ],
   "source": [
    "path = \"results/1_shm_host.csv\"\n",
    "times = pd.read_csv(path, delimiter=';')\n",
    "times.describe()"
   ]
  },
  {
   "cell_type": "markdown",
   "metadata": {},
   "source": [
    "![title](results/1_shm_host.png)"
   ]
  },
  {
   "cell_type": "markdown",
   "metadata": {},
   "source": [
    "## Komunikacja przez sieć, ten sam host"
   ]
  },
  {
   "cell_type": "code",
   "execution_count": 34,
   "metadata": {},
   "outputs": [
    {
     "data": {
      "text/html": [
       "<div>\n",
       "<style scoped>\n",
       "    .dataframe tbody tr th:only-of-type {\n",
       "        vertical-align: middle;\n",
       "    }\n",
       "\n",
       "    .dataframe tbody tr th {\n",
       "        vertical-align: top;\n",
       "    }\n",
       "\n",
       "    .dataframe thead th {\n",
       "        text-align: right;\n",
       "    }\n",
       "</style>\n",
       "<table border=\"1\" class=\"dataframe\">\n",
       "  <thead>\n",
       "    <tr style=\"text-align: right;\">\n",
       "      <th></th>\n",
       "      <th>size</th>\n",
       "      <th>bandwidth(reg)</th>\n",
       "      <th>bandwidth(sync)</th>\n",
       "    </tr>\n",
       "  </thead>\n",
       "  <tbody>\n",
       "    <tr>\n",
       "      <th>count</th>\n",
       "      <td>9.400000e+01</td>\n",
       "      <td>94.000000</td>\n",
       "      <td>94.000000</td>\n",
       "    </tr>\n",
       "    <tr>\n",
       "      <th>mean</th>\n",
       "      <td>3.177032e+05</td>\n",
       "      <td>1334.853260</td>\n",
       "      <td>1073.698576</td>\n",
       "    </tr>\n",
       "    <tr>\n",
       "      <th>std</th>\n",
       "      <td>7.799629e+05</td>\n",
       "      <td>1129.451473</td>\n",
       "      <td>830.348837</td>\n",
       "    </tr>\n",
       "    <tr>\n",
       "      <th>min</th>\n",
       "      <td>1.000000e+00</td>\n",
       "      <td>0.894058</td>\n",
       "      <td>0.765167</td>\n",
       "    </tr>\n",
       "    <tr>\n",
       "      <th>25%</th>\n",
       "      <td>1.310000e+02</td>\n",
       "      <td>114.650660</td>\n",
       "      <td>94.404673</td>\n",
       "    </tr>\n",
       "    <tr>\n",
       "      <th>50%</th>\n",
       "      <td>4.156000e+03</td>\n",
       "      <td>1684.974757</td>\n",
       "      <td>1431.911355</td>\n",
       "    </tr>\n",
       "    <tr>\n",
       "      <th>75%</th>\n",
       "      <td>1.309290e+05</td>\n",
       "      <td>1907.147222</td>\n",
       "      <td>1852.789143</td>\n",
       "    </tr>\n",
       "    <tr>\n",
       "      <th>max</th>\n",
       "      <td>4.119177e+06</td>\n",
       "      <td>3724.424303</td>\n",
       "      <td>2077.515625</td>\n",
       "    </tr>\n",
       "  </tbody>\n",
       "</table>\n",
       "</div>"
      ],
      "text/plain": [
       "               size  bandwidth(reg)  bandwidth(sync)\n",
       "count  9.400000e+01       94.000000        94.000000\n",
       "mean   3.177032e+05     1334.853260      1073.698576\n",
       "std    7.799629e+05     1129.451473       830.348837\n",
       "min    1.000000e+00        0.894058         0.765167\n",
       "25%    1.310000e+02      114.650660        94.404673\n",
       "50%    4.156000e+03     1684.974757      1431.911355\n",
       "75%    1.309290e+05     1907.147222      1852.789143\n",
       "max    4.119177e+06     3724.424303      2077.515625"
      ]
     },
     "execution_count": 34,
     "metadata": {},
     "output_type": "execute_result"
    }
   ],
   "source": [
    "path = \"results/2_net_host.csv\"\n",
    "times = pd.read_csv(path, delimiter=';')\n",
    "times.describe()"
   ]
  },
  {
   "cell_type": "markdown",
   "metadata": {},
   "source": [
    "![title](results/2_net_host.png)"
   ]
  },
  {
   "cell_type": "markdown",
   "metadata": {},
   "source": [
    "## Komunikacja przez sieć, ta sama maszyna"
   ]
  },
  {
   "cell_type": "code",
   "execution_count": 42,
   "metadata": {},
   "outputs": [
    {
     "data": {
      "text/html": [
       "<div>\n",
       "<style scoped>\n",
       "    .dataframe tbody tr th:only-of-type {\n",
       "        vertical-align: middle;\n",
       "    }\n",
       "\n",
       "    .dataframe tbody tr th {\n",
       "        vertical-align: top;\n",
       "    }\n",
       "\n",
       "    .dataframe thead th {\n",
       "        text-align: right;\n",
       "    }\n",
       "</style>\n",
       "<table border=\"1\" class=\"dataframe\">\n",
       "  <thead>\n",
       "    <tr style=\"text-align: right;\">\n",
       "      <th></th>\n",
       "      <th>size</th>\n",
       "      <th>bandwidth(reg)</th>\n",
       "      <th>bandwidth(sync)</th>\n",
       "    </tr>\n",
       "  </thead>\n",
       "  <tbody>\n",
       "    <tr>\n",
       "      <th>count</th>\n",
       "      <td>9.400000e+01</td>\n",
       "      <td>94.000000</td>\n",
       "      <td>94.000000</td>\n",
       "    </tr>\n",
       "    <tr>\n",
       "      <th>mean</th>\n",
       "      <td>3.177032e+05</td>\n",
       "      <td>629.142636</td>\n",
       "      <td>510.113551</td>\n",
       "    </tr>\n",
       "    <tr>\n",
       "      <th>std</th>\n",
       "      <td>7.799629e+05</td>\n",
       "      <td>580.107894</td>\n",
       "      <td>554.707265</td>\n",
       "    </tr>\n",
       "    <tr>\n",
       "      <th>min</th>\n",
       "      <td>1.000000e+00</td>\n",
       "      <td>0.355102</td>\n",
       "      <td>0.052844</td>\n",
       "    </tr>\n",
       "    <tr>\n",
       "      <th>25%</th>\n",
       "      <td>1.310000e+02</td>\n",
       "      <td>39.517743</td>\n",
       "      <td>4.446673</td>\n",
       "    </tr>\n",
       "    <tr>\n",
       "      <th>50%</th>\n",
       "      <td>4.156000e+03</td>\n",
       "      <td>438.632074</td>\n",
       "      <td>227.037337</td>\n",
       "    </tr>\n",
       "    <tr>\n",
       "      <th>75%</th>\n",
       "      <td>1.309290e+05</td>\n",
       "      <td>1215.522797</td>\n",
       "      <td>1044.063491</td>\n",
       "    </tr>\n",
       "    <tr>\n",
       "      <th>max</th>\n",
       "      <td>4.119177e+06</td>\n",
       "      <td>1549.680117</td>\n",
       "      <td>1519.066430</td>\n",
       "    </tr>\n",
       "  </tbody>\n",
       "</table>\n",
       "</div>"
      ],
      "text/plain": [
       "               size  bandwidth(reg)  bandwidth(sync)\n",
       "count  9.400000e+01       94.000000        94.000000\n",
       "mean   3.177032e+05      629.142636       510.113551\n",
       "std    7.799629e+05      580.107894       554.707265\n",
       "min    1.000000e+00        0.355102         0.052844\n",
       "25%    1.310000e+02       39.517743         4.446673\n",
       "50%    4.156000e+03      438.632074       227.037337\n",
       "75%    1.309290e+05     1215.522797      1044.063491\n",
       "max    4.119177e+06     1549.680117      1519.066430"
      ]
     },
     "execution_count": 42,
     "metadata": {},
     "output_type": "execute_result"
    }
   ],
   "source": [
    "path = \"results/3_net_machine.csv\"\n",
    "times = pd.read_csv(path, delimiter=';')\n",
    "times.describe()"
   ]
  },
  {
   "cell_type": "markdown",
   "metadata": {},
   "source": [
    "![title](results/3_net_machine.png)"
   ]
  },
  {
   "cell_type": "markdown",
   "metadata": {},
   "source": [
    "## Komunikacja przez sieć, różne maszyny"
   ]
  },
  {
   "cell_type": "code",
   "execution_count": 43,
   "metadata": {},
   "outputs": [
    {
     "data": {
      "text/html": [
       "<div>\n",
       "<style scoped>\n",
       "    .dataframe tbody tr th:only-of-type {\n",
       "        vertical-align: middle;\n",
       "    }\n",
       "\n",
       "    .dataframe tbody tr th {\n",
       "        vertical-align: top;\n",
       "    }\n",
       "\n",
       "    .dataframe thead th {\n",
       "        text-align: right;\n",
       "    }\n",
       "</style>\n",
       "<table border=\"1\" class=\"dataframe\">\n",
       "  <thead>\n",
       "    <tr style=\"text-align: right;\">\n",
       "      <th></th>\n",
       "      <th>size</th>\n",
       "      <th>bandwidth(reg)</th>\n",
       "      <th>bandwidth(sync)</th>\n",
       "    </tr>\n",
       "  </thead>\n",
       "  <tbody>\n",
       "    <tr>\n",
       "      <th>count</th>\n",
       "      <td>9.400000e+01</td>\n",
       "      <td>94.000000</td>\n",
       "      <td>94.000000</td>\n",
       "    </tr>\n",
       "    <tr>\n",
       "      <th>mean</th>\n",
       "      <td>3.177032e+05</td>\n",
       "      <td>682.095729</td>\n",
       "      <td>393.827580</td>\n",
       "    </tr>\n",
       "    <tr>\n",
       "      <th>std</th>\n",
       "      <td>7.799629e+05</td>\n",
       "      <td>590.926795</td>\n",
       "      <td>481.963197</td>\n",
       "    </tr>\n",
       "    <tr>\n",
       "      <th>min</th>\n",
       "      <td>1.000000e+00</td>\n",
       "      <td>0.256059</td>\n",
       "      <td>0.018913</td>\n",
       "    </tr>\n",
       "    <tr>\n",
       "      <th>25%</th>\n",
       "      <td>1.310000e+02</td>\n",
       "      <td>45.021919</td>\n",
       "      <td>7.656478</td>\n",
       "    </tr>\n",
       "    <tr>\n",
       "      <th>50%</th>\n",
       "      <td>4.156000e+03</td>\n",
       "      <td>687.256651</td>\n",
       "      <td>101.728613</td>\n",
       "    </tr>\n",
       "    <tr>\n",
       "      <th>75%</th>\n",
       "      <td>1.309290e+05</td>\n",
       "      <td>1212.447010</td>\n",
       "      <td>918.147122</td>\n",
       "    </tr>\n",
       "    <tr>\n",
       "      <th>max</th>\n",
       "      <td>4.119177e+06</td>\n",
       "      <td>1949.072483</td>\n",
       "      <td>1308.846222</td>\n",
       "    </tr>\n",
       "  </tbody>\n",
       "</table>\n",
       "</div>"
      ],
      "text/plain": [
       "               size  bandwidth(reg)  bandwidth(sync)\n",
       "count  9.400000e+01       94.000000        94.000000\n",
       "mean   3.177032e+05      682.095729       393.827580\n",
       "std    7.799629e+05      590.926795       481.963197\n",
       "min    1.000000e+00        0.256059         0.018913\n",
       "25%    1.310000e+02       45.021919         7.656478\n",
       "50%    4.156000e+03      687.256651       101.728613\n",
       "75%    1.309290e+05     1212.447010       918.147122\n",
       "max    4.119177e+06     1949.072483      1308.846222"
      ]
     },
     "execution_count": 43,
     "metadata": {},
     "output_type": "execute_result"
    }
   ],
   "source": [
    "path = \"results/4_net_diff.csv\"\n",
    "times = pd.read_csv(path, delimiter=';')\n",
    "times.describe()"
   ]
  },
  {
   "cell_type": "markdown",
   "metadata": {},
   "source": [
    "![title](results/4_net_diff.png)"
   ]
  },
  {
   "cell_type": "markdown",
   "metadata": {},
   "source": [
    "## Opóźnienia"
   ]
  },
  {
   "cell_type": "code",
   "execution_count": 28,
   "metadata": {},
   "outputs": [
    {
     "data": {
      "image/png": "[encoded data removed]",
      "text/plain": [
       "<Figure size 432x288 with 1 Axes>"
      ]
     },
     "metadata": {
      "needs_background": "light"
     },
     "output_type": "display_data"
    }
   ],
   "source": [
    "x = ('1-shm', '2-host', '3-machine', '4-net')\n",
    "lts = [0.000009, 0.000009, 0.000037, 0.000052]\n",
    "y_pos = np.arange(len(x))\n",
    " \n",
    "plt.bar(y_pos, lts, align='center', alpha=0.5)\n",
    "plt.xticks(y_pos, x)\n",
    "plt.ylabel('Latency')\n",
    "plt.xlabel('machine')\n",
    "plt.title('Latency comparison')\n",
    " \n",
    "plt.show()"
   ]
  },
  {
   "cell_type": "markdown",
   "metadata": {},
   "source": [
    "## Podsumowanie"
   ]
  },
  {
   "cell_type": "markdown",
   "metadata": {},
   "source": [
    "![title](results/5_mix.png)"
   ]
  },
  {
   "cell_type": "markdown",
   "metadata": {},
   "source": [
    "* Wynik pomiaru *'2-host'* nie jest zogdny z przewidywaniami. Komunikacja przez pamięć powinna być szybsza.\n",
    "* Najprawdopodobniej zmienna środowiskowa `MPIR_CVAR_CH3_NOLOCAL=1` wymuszające użycie komunikacji przez sieć nie działa dla implementacji MPI w Pythonie. Została ona wprowadzone w wersji ***3.0.4***\n",
    "* Na vnode'ach jest wersja ***3.2***"
   ]
  }
 ],
 "metadata": {
  "file_extension": ".py",
  "kernelspec": {
   "display_name": "Python 3",
   "language": "python",
   "name": "python3"
  },
  "language_info": {
   "codemirror_mode": {
    "name": "ipython",
    "version": 3
   },
   "file_extension": ".py",
   "mimetype": "text/x-python",
   "name": "python",
   "nbconvert_exporter": "python",
   "pygments_lexer": "ipython3",
   "version": "3.7.2"
  },
  "mimetype": "text/x-python",
  "name": "python",
  "npconvert_exporter": "python",
  "pygments_lexer": "ipython3",
  "version": 3
 },
 "nbformat": 4,
 "nbformat_minor": 2
}
