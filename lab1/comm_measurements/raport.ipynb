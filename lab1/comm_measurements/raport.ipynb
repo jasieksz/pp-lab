{
 "cells": [
  {
   "cell_type": "markdown",
   "metadata": {},
   "source": [
    "# Kod"
   ]
  },
  {
   "cell_type": "code",
   "execution_count": null,
   "metadata": {},
   "outputs": [],
   "source": [
    "#!/usr/bin/env bash\n",
    "\n",
    "set -x\n",
    "\n",
    "mpiexec  -machinefile ./same_host -np 2 ./timer.py | tee results/1_shm_host.csv\n",
    "MPIR_CVAR_CH3_NOLOCAL=1 mpiexec  -machinefile ./same_host -np 2 ./timer.py | tee results/2_net_host.csv\n",
    "MPIR_CVAR_CH3_NOLOCAL=1 mpiexec  -machinefile ./same_machine -np 2 ./timer.py | tee results/3_net_machine.csv\n",
    "MPIR_CVAR_CH3_NOLOCAL=1 mpiexec -machinefile ./different_machine -np 2 ./timer.py | tee results/4_net_diff.csv"
   ]
  },
  {
   "cell_type": "markdown",
   "metadata": {},
   "source": [
    "* same_host \n",
    " - `vnode-03.dydaktyka.icsr.agh.edu.pl:2`\n",
    "* same_machine \n",
    " - `vnode-02.dydaktyka.icsr.agh.edu.pl:1`\n",
    " - `vnode-03.dydaktyka.icsr.agh.edu.pl:1`\n",
    "* different_machine\n",
    " - `vnode-03.dydaktyka.icsr.agh.edu.pl:1`\n",
    " - `vnode-04.dydaktyka.icsr.agh.edu.pl:1`"
   ]
  },
  {
   "cell_type": "code",
   "execution_count": null,
   "metadata": {},
   "outputs": [],
   "source": [
    "#!/usr/bin/env python2\n",
    "import sys\n",
    "import gc\n",
    "import numpy as np\n",
    "from mpi4py import MPI\n",
    "\n",
    "\n",
    "def gen_lengths(max_len):\n",
    "    x = 1\n",
    "    while x < max_len:\n",
    "        yield int(x)\n",
    "        if x < 50:\n",
    "            x += 5\n",
    "        else:\n",
    "            x *= 1.8\n",
    "\n",
    "if __name__ == \"__main__\":\n",
    "    comm = MPI.COMM_WORLD\n",
    "    rank = comm.Get_rank()\n",
    "\n",
    "    results = []\n",
    "    iterations = 100\n",
    "\n",
    "    for i in range(3):\n",
    "        rst = []\n",
    "        for payload_size in gen_lengths(max_len=(2**26)):\n",
    "\n",
    "            payload_bytes = bytearray(payload_size)\n",
    "            gc.collect()\n",
    "\n",
    "            comm.Barrier()\n",
    "            start_reg = MPI.Wtime()\n",
    "            for _ in xrange(iterations):\n",
    "                if rank == 0:\n",
    "                    comm.Send(payload_bytes, dest=1)\n",
    "                elif rank == 1:\n",
    "                    comm.Recv(source=0)\n",
    "            end_reg = MPI.Wtime()\n",
    "\n",
    "            comm.Barrier()\n",
    "            start_sync = MPI.Wtime()\n",
    "            for _ in xrange(iterations):\n",
    "                if rank == 0:\n",
    "                    comm.Ssend(payload_bytes, dest=1)\n",
    "                elif rank == 1:\n",
    "                    comm.Recv(source=0)\n",
    "            end_sync = MPI.Wtime()\n",
    "            comm.Barrier()\n",
    "\n",
    "            m_bit_per_second_reg = ((8 * payload_size * iterations)/(end_reg - start_reg)) / 10**6\n",
    "            m_bit_per_second_sync = ((8 * payload_size * iterations)/(end_sync - start_sync)) / 10**6\n",
    "            rst.append((payload_size, m_bit_per_second_reg, m_bit_per_second_sync))\n",
    "        results.append(rst)\n",
    "        \n",
    "    if rank == 0:\n",
    "        x = np.array(results)\n",
    "        x = np.array(x.transpose().mean(axis=-1)).transpose()\n",
    "        print 'size;bandwidth(reg);bandwidth(sync)'\n",
    "        for r in x:\n",
    "            print '%d;%f;%f' % (r[0], r[1], r[2])          "
   ]
  },
  {
   "cell_type": "markdown",
   "metadata": {},
   "source": [
    "# Sprawozdanie"
   ]
  },
  {
   "cell_type": "code",
   "execution_count": null,
   "metadata": {},
   "outputs": [],
   "source": [
    "from matplotlib import pyplot as plt\n",
    "import numpy as np \n",
    "import pandas as pd"
   ]
  },
  {
   "cell_type": "code",
   "execution_count": 2,
   "metadata": {},
   "outputs": [],
   "source": [
    "%matplotlib inline"
   ]
  },
  {
   "cell_type": "markdown",
   "metadata": {},
   "source": [
    "## Parametry\n",
    "* Tryby komunikacji: standardowy i synchronizowany\n",
    "* Każdy pomiar był przeprowadzany 3 razy, końcowy wynik to średnia\n",
    "* Przepustowość: `(8 * payload_size * iterations)/(end - start)) / 10**6`, gdzie `iterations = 100`\n",
    "* Payload: `payload = bytearray(payload_size)`, w rozmiarach od ***1 B*** do ***28 MB***"
   ]
  },
  {
   "cell_type": "markdown",
   "metadata": {},
   "source": [
    "## Opóźnienia"
   ]
  },
  {
   "cell_type": "code",
   "execution_count": 16,
   "metadata": {},
   "outputs": [
    {
     "data": {
      "image/png": "[encoded data removed]",
      "text/plain": [
       "<Figure size 432x288 with 1 Axes>"
      ]
     },
     "metadata": {
      "needs_background": "light"
     },
     "output_type": "display_data"
    }
   ],
   "source": [
    "x = ('1-shm', '2-host', '3-machine', '4-net')\n",
    "lts = [0.000002, 0.000002, 0.000026, 0.000015]\n",
    "y_pos = np.arange(len(x))\n",
    " \n",
    "plt.bar(y_pos, lts, align='center', alpha=0.5)\n",
    "plt.xticks(y_pos, x)\n",
    "plt.ylabel('Latency')\n",
    "plt.xlabel('machine')\n",
    "plt.title('Latency comparison')\n",
    " \n",
    "plt.show()"
   ]
  },
  {
   "cell_type": "markdown",
   "metadata": {},
   "source": [
    "## Ten sam host - pamiec współdzielona"
   ]
  },
  {
   "cell_type": "code",
   "execution_count": 3,
   "metadata": {},
   "outputs": [
    {
     "data": {
      "text/html": [
       "<div>\n",
       "<style scoped>\n",
       "    .dataframe tbody tr th:only-of-type {\n",
       "        vertical-align: middle;\n",
       "    }\n",
       "\n",
       "    .dataframe tbody tr th {\n",
       "        vertical-align: top;\n",
       "    }\n",
       "\n",
       "    .dataframe thead th {\n",
       "        text-align: right;\n",
       "    }\n",
       "</style>\n",
       "<table border=\"1\" class=\"dataframe\">\n",
       "  <thead>\n",
       "    <tr style=\"text-align: right;\">\n",
       "      <th></th>\n",
       "      <th>size</th>\n",
       "      <th>bandwidth(reg)</th>\n",
       "      <th>bandwidth(sync)</th>\n",
       "    </tr>\n",
       "  </thead>\n",
       "  <tbody>\n",
       "    <tr>\n",
       "      <th>count</th>\n",
       "      <td>3.600000e+01</td>\n",
       "      <td>36.000000</td>\n",
       "      <td>36.000000</td>\n",
       "    </tr>\n",
       "    <tr>\n",
       "      <th>mean</th>\n",
       "      <td>1.985375e+06</td>\n",
       "      <td>22475.909181</td>\n",
       "      <td>21293.296191</td>\n",
       "    </tr>\n",
       "    <tr>\n",
       "      <th>std</th>\n",
       "      <td>5.812568e+06</td>\n",
       "      <td>23722.313083</td>\n",
       "      <td>23970.114530</td>\n",
       "    </tr>\n",
       "    <tr>\n",
       "      <th>min</th>\n",
       "      <td>1.000000e+00</td>\n",
       "      <td>4.568944</td>\n",
       "      <td>3.533042</td>\n",
       "    </tr>\n",
       "    <tr>\n",
       "      <th>25%</th>\n",
       "      <td>4.475000e+01</td>\n",
       "      <td>260.659166</td>\n",
       "      <td>165.532263</td>\n",
       "    </tr>\n",
       "    <tr>\n",
       "      <th>50%</th>\n",
       "      <td>2.824500e+03</td>\n",
       "      <td>13830.921231</td>\n",
       "      <td>8026.287314</td>\n",
       "    </tr>\n",
       "    <tr>\n",
       "      <th>75%</th>\n",
       "      <td>2.916020e+05</td>\n",
       "      <td>41476.457120</td>\n",
       "      <td>42447.373061</td>\n",
       "    </tr>\n",
       "    <tr>\n",
       "      <th>max</th>\n",
       "      <td>2.943020e+07</td>\n",
       "      <td>66713.301275</td>\n",
       "      <td>66890.643165</td>\n",
       "    </tr>\n",
       "  </tbody>\n",
       "</table>\n",
       "</div>"
      ],
      "text/plain": [
       "               size  bandwidth(reg)  bandwidth(sync)\n",
       "count  3.600000e+01       36.000000        36.000000\n",
       "mean   1.985375e+06    22475.909181     21293.296191\n",
       "std    5.812568e+06    23722.313083     23970.114530\n",
       "min    1.000000e+00        4.568944         3.533042\n",
       "25%    4.475000e+01      260.659166       165.532263\n",
       "50%    2.824500e+03    13830.921231      8026.287314\n",
       "75%    2.916020e+05    41476.457120     42447.373061\n",
       "max    2.943020e+07    66713.301275     66890.643165"
      ]
     },
     "execution_count": 3,
     "metadata": {},
     "output_type": "execute_result"
    }
   ],
   "source": [
    "path = \"results/1_shm_big.csv\"\n",
    "times = pd.read_csv(path, delimiter=';')\n",
    "times.describe()"
   ]
  },
  {
   "cell_type": "code",
   "execution_count": 4,
   "metadata": {},
   "outputs": [
    {
     "data": {
      "text/plain": [
       "Text(0.5, 0, 'Size [ B ]')"
      ]
     },
     "execution_count": 4,
     "metadata": {},
     "output_type": "execute_result"
    },
    {
     "data": {
      "image/png": "[encoded data removed]",
      "text/plain": [
       "<Figure size 720x504 with 1 Axes>"
      ]
     },
     "metadata": {
      "needs_background": "light"
     },
     "output_type": "display_data"
    }
   ],
   "source": [
    "p = times.plot(x='size', title='Shared memory', figsize=(10,7), color=['blue', 'orange'], linewidth=3)\n",
    "p.set_ylabel(\"Bandwidth [ Mb/s ]\")\n",
    "p.set_xlabel(\"Size [ B ]\")"
   ]
  },
  {
   "cell_type": "markdown",
   "metadata": {},
   "source": [
    "## Ten sam host - sieć (nie działa)"
   ]
  },
  {
   "cell_type": "code",
   "execution_count": 5,
   "metadata": {},
   "outputs": [
    {
     "data": {
      "text/html": [
       "<div>\n",
       "<style scoped>\n",
       "    .dataframe tbody tr th:only-of-type {\n",
       "        vertical-align: middle;\n",
       "    }\n",
       "\n",
       "    .dataframe tbody tr th {\n",
       "        vertical-align: top;\n",
       "    }\n",
       "\n",
       "    .dataframe thead th {\n",
       "        text-align: right;\n",
       "    }\n",
       "</style>\n",
       "<table border=\"1\" class=\"dataframe\">\n",
       "  <thead>\n",
       "    <tr style=\"text-align: right;\">\n",
       "      <th></th>\n",
       "      <th>size</th>\n",
       "      <th>bandwidth(reg)</th>\n",
       "      <th>bandwidth(sync)</th>\n",
       "    </tr>\n",
       "  </thead>\n",
       "  <tbody>\n",
       "    <tr>\n",
       "      <th>count</th>\n",
       "      <td>3.600000e+01</td>\n",
       "      <td>36.000000</td>\n",
       "      <td>36.000000</td>\n",
       "    </tr>\n",
       "    <tr>\n",
       "      <th>mean</th>\n",
       "      <td>1.985375e+06</td>\n",
       "      <td>22655.565899</td>\n",
       "      <td>21277.424431</td>\n",
       "    </tr>\n",
       "    <tr>\n",
       "      <th>std</th>\n",
       "      <td>5.812568e+06</td>\n",
       "      <td>23731.550668</td>\n",
       "      <td>23942.809713</td>\n",
       "    </tr>\n",
       "    <tr>\n",
       "      <th>min</th>\n",
       "      <td>1.000000e+00</td>\n",
       "      <td>4.127375</td>\n",
       "      <td>3.629974</td>\n",
       "    </tr>\n",
       "    <tr>\n",
       "      <th>25%</th>\n",
       "      <td>4.475000e+01</td>\n",
       "      <td>271.497925</td>\n",
       "      <td>163.560053</td>\n",
       "    </tr>\n",
       "    <tr>\n",
       "      <th>50%</th>\n",
       "      <td>2.824500e+03</td>\n",
       "      <td>14620.278117</td>\n",
       "      <td>8103.480572</td>\n",
       "    </tr>\n",
       "    <tr>\n",
       "      <th>75%</th>\n",
       "      <td>2.916020e+05</td>\n",
       "      <td>41510.310572</td>\n",
       "      <td>42757.525200</td>\n",
       "    </tr>\n",
       "    <tr>\n",
       "      <th>max</th>\n",
       "      <td>2.943020e+07</td>\n",
       "      <td>65305.299371</td>\n",
       "      <td>65518.662114</td>\n",
       "    </tr>\n",
       "  </tbody>\n",
       "</table>\n",
       "</div>"
      ],
      "text/plain": [
       "               size  bandwidth(reg)  bandwidth(sync)\n",
       "count  3.600000e+01       36.000000        36.000000\n",
       "mean   1.985375e+06    22655.565899     21277.424431\n",
       "std    5.812568e+06    23731.550668     23942.809713\n",
       "min    1.000000e+00        4.127375         3.629974\n",
       "25%    4.475000e+01      271.497925       163.560053\n",
       "50%    2.824500e+03    14620.278117      8103.480572\n",
       "75%    2.916020e+05    41510.310572     42757.525200\n",
       "max    2.943020e+07    65305.299371     65518.662114"
      ]
     },
     "execution_count": 5,
     "metadata": {},
     "output_type": "execute_result"
    }
   ],
   "source": [
    "path = \"results/2_host_big.csv\"\n",
    "times = pd.read_csv(path, delimiter=';')\n",
    "times.describe()"
   ]
  },
  {
   "cell_type": "code",
   "execution_count": 12,
   "metadata": {},
   "outputs": [
    {
     "data": {
      "text/plain": [
       "Text(0.5, 0, 'Size [ B ]')"
      ]
     },
     "execution_count": 12,
     "metadata": {},
     "output_type": "execute_result"
    },
    {
     "data": {
      "image/png": "[encoded data removed]",
      "text/plain": [
       "<Figure size 720x504 with 1 Axes>"
      ]
     },
     "metadata": {
      "needs_background": "light"
     },
     "output_type": "display_data"
    }
   ],
   "source": [
    "p = times.plot(x='size', title='Host', figsize=(10,7), color=['blue', 'orange'], linewidth=3)\n",
    "p.set_ylabel(\"Bandwidth [ Mb/s ]\")\n",
    "p.set_xlabel(\"Size [ B ]\")"
   ]
  },
  {
   "cell_type": "markdown",
   "metadata": {},
   "source": [
    "## Ta sama maszyna"
   ]
  },
  {
   "cell_type": "code",
   "execution_count": 8,
   "metadata": {},
   "outputs": [
    {
     "data": {
      "text/html": [
       "<div>\n",
       "<style scoped>\n",
       "    .dataframe tbody tr th:only-of-type {\n",
       "        vertical-align: middle;\n",
       "    }\n",
       "\n",
       "    .dataframe tbody tr th {\n",
       "        vertical-align: top;\n",
       "    }\n",
       "\n",
       "    .dataframe thead th {\n",
       "        text-align: right;\n",
       "    }\n",
       "</style>\n",
       "<table border=\"1\" class=\"dataframe\">\n",
       "  <thead>\n",
       "    <tr style=\"text-align: right;\">\n",
       "      <th></th>\n",
       "      <th>size</th>\n",
       "      <th>bandwidth(reg)</th>\n",
       "      <th>bandwidth(sync)</th>\n",
       "    </tr>\n",
       "  </thead>\n",
       "  <tbody>\n",
       "    <tr>\n",
       "      <th>count</th>\n",
       "      <td>3.600000e+01</td>\n",
       "      <td>36.000000</td>\n",
       "      <td>36.000000</td>\n",
       "    </tr>\n",
       "    <tr>\n",
       "      <th>mean</th>\n",
       "      <td>1.985375e+06</td>\n",
       "      <td>2563.007598</td>\n",
       "      <td>2219.758059</td>\n",
       "    </tr>\n",
       "    <tr>\n",
       "      <th>std</th>\n",
       "      <td>5.812568e+06</td>\n",
       "      <td>2823.651274</td>\n",
       "      <td>2909.953973</td>\n",
       "    </tr>\n",
       "    <tr>\n",
       "      <th>min</th>\n",
       "      <td>1.000000e+00</td>\n",
       "      <td>0.366830</td>\n",
       "      <td>0.093643</td>\n",
       "    </tr>\n",
       "    <tr>\n",
       "      <th>25%</th>\n",
       "      <td>4.475000e+01</td>\n",
       "      <td>15.836545</td>\n",
       "      <td>3.746323</td>\n",
       "    </tr>\n",
       "    <tr>\n",
       "      <th>50%</th>\n",
       "      <td>2.824500e+03</td>\n",
       "      <td>1160.162020</td>\n",
       "      <td>232.150281</td>\n",
       "    </tr>\n",
       "    <tr>\n",
       "      <th>75%</th>\n",
       "      <td>2.916020e+05</td>\n",
       "      <td>4538.300616</td>\n",
       "      <td>4820.545191</td>\n",
       "    </tr>\n",
       "    <tr>\n",
       "      <th>max</th>\n",
       "      <td>2.943020e+07</td>\n",
       "      <td>8341.423948</td>\n",
       "      <td>8627.391314</td>\n",
       "    </tr>\n",
       "  </tbody>\n",
       "</table>\n",
       "</div>"
      ],
      "text/plain": [
       "               size  bandwidth(reg)  bandwidth(sync)\n",
       "count  3.600000e+01       36.000000        36.000000\n",
       "mean   1.985375e+06     2563.007598      2219.758059\n",
       "std    5.812568e+06     2823.651274      2909.953973\n",
       "min    1.000000e+00        0.366830         0.093643\n",
       "25%    4.475000e+01       15.836545         3.746323\n",
       "50%    2.824500e+03     1160.162020       232.150281\n",
       "75%    2.916020e+05     4538.300616      4820.545191\n",
       "max    2.943020e+07     8341.423948      8627.391314"
      ]
     },
     "execution_count": 8,
     "metadata": {},
     "output_type": "execute_result"
    }
   ],
   "source": [
    "path = \"results/3_machine_big.csv\"\n",
    "times = pd.read_csv(path, delimiter=';')\n",
    "times.describe()"
   ]
  },
  {
   "cell_type": "code",
   "execution_count": 13,
   "metadata": {},
   "outputs": [
    {
     "data": {
      "text/plain": [
       "Text(0.5, 0, 'Size [ B ]')"
      ]
     },
     "execution_count": 13,
     "metadata": {},
     "output_type": "execute_result"
    },
    {
     "data": {
      "image/png": "[encoded data removed]",
      "text/plain": [
       "<Figure size 720x504 with 1 Axes>"
      ]
     },
     "metadata": {
      "needs_background": "light"
     },
     "output_type": "display_data"
    }
   ],
   "source": [
    "p = times.plot(x='size', title='Machine', figsize=(10,7), color=['blue', 'orange'], linewidth=3)\n",
    "p.set_ylabel(\"Bandwidth [ Mb/s ]\")\n",
    "p.set_xlabel(\"Size [ B ]\")"
   ]
  },
  {
   "cell_type": "markdown",
   "metadata": {},
   "source": [
    "## Różne maszyny"
   ]
  },
  {
   "cell_type": "code",
   "execution_count": 14,
   "metadata": {},
   "outputs": [
    {
     "data": {
      "text/html": [
       "<div>\n",
       "<style scoped>\n",
       "    .dataframe tbody tr th:only-of-type {\n",
       "        vertical-align: middle;\n",
       "    }\n",
       "\n",
       "    .dataframe tbody tr th {\n",
       "        vertical-align: top;\n",
       "    }\n",
       "\n",
       "    .dataframe thead th {\n",
       "        text-align: right;\n",
       "    }\n",
       "</style>\n",
       "<table border=\"1\" class=\"dataframe\">\n",
       "  <thead>\n",
       "    <tr style=\"text-align: right;\">\n",
       "      <th></th>\n",
       "      <th>size</th>\n",
       "      <th>bandwidth(reg)</th>\n",
       "      <th>bandwidth(sync)</th>\n",
       "    </tr>\n",
       "  </thead>\n",
       "  <tbody>\n",
       "    <tr>\n",
       "      <th>count</th>\n",
       "      <td>3.600000e+01</td>\n",
       "      <td>36.000000</td>\n",
       "      <td>36.000000</td>\n",
       "    </tr>\n",
       "    <tr>\n",
       "      <th>mean</th>\n",
       "      <td>1.985375e+06</td>\n",
       "      <td>1128.278020</td>\n",
       "      <td>570.745129</td>\n",
       "    </tr>\n",
       "    <tr>\n",
       "      <th>std</th>\n",
       "      <td>5.812568e+06</td>\n",
       "      <td>1169.334857</td>\n",
       "      <td>723.342355</td>\n",
       "    </tr>\n",
       "    <tr>\n",
       "      <th>min</th>\n",
       "      <td>1.000000e+00</td>\n",
       "      <td>0.433318</td>\n",
       "      <td>0.022071</td>\n",
       "    </tr>\n",
       "    <tr>\n",
       "      <th>25%</th>\n",
       "      <td>4.475000e+01</td>\n",
       "      <td>21.449004</td>\n",
       "      <td>2.831413</td>\n",
       "    </tr>\n",
       "    <tr>\n",
       "      <th>50%</th>\n",
       "      <td>2.824500e+03</td>\n",
       "      <td>1079.690584</td>\n",
       "      <td>110.580276</td>\n",
       "    </tr>\n",
       "    <tr>\n",
       "      <th>75%</th>\n",
       "      <td>2.916020e+05</td>\n",
       "      <td>1691.461499</td>\n",
       "      <td>1348.644426</td>\n",
       "    </tr>\n",
       "    <tr>\n",
       "      <th>max</th>\n",
       "      <td>2.943020e+07</td>\n",
       "      <td>3866.415427</td>\n",
       "      <td>2504.082852</td>\n",
       "    </tr>\n",
       "  </tbody>\n",
       "</table>\n",
       "</div>"
      ],
      "text/plain": [
       "               size  bandwidth(reg)  bandwidth(sync)\n",
       "count  3.600000e+01       36.000000        36.000000\n",
       "mean   1.985375e+06     1128.278020       570.745129\n",
       "std    5.812568e+06     1169.334857       723.342355\n",
       "min    1.000000e+00        0.433318         0.022071\n",
       "25%    4.475000e+01       21.449004         2.831413\n",
       "50%    2.824500e+03     1079.690584       110.580276\n",
       "75%    2.916020e+05     1691.461499      1348.644426\n",
       "max    2.943020e+07     3866.415427      2504.082852"
      ]
     },
     "execution_count": 14,
     "metadata": {},
     "output_type": "execute_result"
    }
   ],
   "source": [
    "path = \"results/4_net.csv\"\n",
    "times = pd.read_csv(path, delimiter=';')\n",
    "times.describe()"
   ]
  },
  {
   "cell_type": "code",
   "execution_count": 15,
   "metadata": {
    "scrolled": true
   },
   "outputs": [
    {
     "data": {
      "text/plain": [
       "Text(0.5, 0, 'Size [ B ]')"
      ]
     },
     "execution_count": 15,
     "metadata": {},
     "output_type": "execute_result"
    },
    {
     "data": {
      "image/png": "[encoded data removed]",
      "text/plain": [
       "<Figure size 720x504 with 1 Axes>"
      ]
     },
     "metadata": {
      "needs_background": "light"
     },
     "output_type": "display_data"
    }
   ],
   "source": [
    "p = times.plot(x='size', title='Different machine', figsize=(10,7), color=['blue', 'orange'], linewidth=3)\n",
    "p.set_ylabel(\"Bandwidth [ Mb/s ]\")\n",
    "p.set_xlabel(\"Size [ B ]\")"
   ]
  },
  {
   "cell_type": "markdown",
   "metadata": {},
   "source": [
    "Porównanie wszystkich typów hostów (obraz w md)\n",
    "![title](results/5_mix.png)"
   ]
  },
  {
   "cell_type": "markdown",
   "metadata": {},
   "source": [
    "# Podsumowanie\n",
    "\n",
    "* Wynik pomiaru *'2-host'* nie jest zogdny z przewidywaniami. Komunikacja przez pamięć powinna być szybsza.\n",
    "* Najprawdopodobniej zmienna środowiskowa `MPIR_CVAR_CH3_NOLOCAL=1` wymuszające użycie komunikacji przez sieć nie działa dla implementacji MPI w Pythonie. Została ona wprowadzone w wersji ***3.0.4***\n",
    "* Na vnode'ach jest wersja ***3.2***"
   ]
  },
  {
   "cell_type": "markdown",
   "metadata": {},
   "source": [
    "# Uwagi prowadzącego przy oddawaniu (błędy)\n",
    "* W pythonie trzeba użyć funkcji Send() i Recv(), a nie send() i recv(). (serializacja)\n",
    "* Czas należy mierzyć dopiero jak wiemy, że odebraliśmy komunikat. i.e. `if rank == 1: end = MPI.Wtime()`"
   ]
  }
 ],
 "metadata": {
  "file_extension": ".py",
  "kernelspec": {
   "display_name": "Python 3",
   "language": "python",
   "name": "python3"
  },
  "language_info": {
   "codemirror_mode": {
    "name": "ipython",
    "version": 3
   },
   "file_extension": ".py",
   "mimetype": "text/x-python",
   "name": "python",
   "nbconvert_exporter": "python",
   "pygments_lexer": "ipython3",
   "version": "3.7.2"
  },
  "mimetype": "text/x-python",
  "name": "python",
  "npconvert_exporter": "python",
  "pygments_lexer": "ipython3",
  "version": 3
 },
 "nbformat": 4,
 "nbformat_minor": 2
}
