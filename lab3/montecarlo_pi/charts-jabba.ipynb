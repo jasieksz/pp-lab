{
 "cells": [
  {
   "cell_type": "code",
   "execution_count": 1,
   "metadata": {},
   "outputs": [],
   "source": [
    "import pandas as pd\n",
    "import numpy as np \n",
    "import seaborn as sns\n",
    "from matplotlib import pyplot as plt"
   ]
  },
  {
   "cell_type": "markdown",
   "metadata": {},
   "source": [
    "# REGULAR"
   ]
  },
  {
   "cell_type": "code",
   "execution_count": 2,
   "metadata": {},
   "outputs": [
    {
     "data": {
      "text/html": [
       "<div>\n",
       "<style scoped>\n",
       "    .dataframe tbody tr th:only-of-type {\n",
       "        vertical-align: middle;\n",
       "    }\n",
       "\n",
       "    .dataframe tbody tr th {\n",
       "        vertical-align: top;\n",
       "    }\n",
       "\n",
       "    .dataframe thead th {\n",
       "        text-align: right;\n",
       "    }\n",
       "</style>\n",
       "<table border=\"1\" class=\"dataframe\">\n",
       "  <thead>\n",
       "    <tr style=\"text-align: right;\">\n",
       "      <th></th>\n",
       "      <th>mode</th>\n",
       "      <th>CPU</th>\n",
       "      <th>size</th>\n",
       "      <th>time</th>\n",
       "      <th>pi</th>\n",
       "      <th>speedup</th>\n",
       "      <th>efficiency</th>\n",
       "      <th>karp</th>\n",
       "    </tr>\n",
       "  </thead>\n",
       "  <tbody>\n",
       "    <tr>\n",
       "      <th>0</th>\n",
       "      <td>regular</td>\n",
       "      <td>1</td>\n",
       "      <td>5</td>\n",
       "      <td>0.053523</td>\n",
       "      <td>3.148320</td>\n",
       "      <td>1.000000</td>\n",
       "      <td>1.000000</td>\n",
       "      <td>0.000000</td>\n",
       "    </tr>\n",
       "    <tr>\n",
       "      <th>1</th>\n",
       "      <td>regular</td>\n",
       "      <td>2</td>\n",
       "      <td>5</td>\n",
       "      <td>0.027216</td>\n",
       "      <td>3.136680</td>\n",
       "      <td>1.966571</td>\n",
       "      <td>0.983286</td>\n",
       "      <td>0.016999</td>\n",
       "    </tr>\n",
       "    <tr>\n",
       "      <th>2</th>\n",
       "      <td>regular</td>\n",
       "      <td>3</td>\n",
       "      <td>5</td>\n",
       "      <td>0.018227</td>\n",
       "      <td>3.145960</td>\n",
       "      <td>2.936506</td>\n",
       "      <td>0.978835</td>\n",
       "      <td>0.010811</td>\n",
       "    </tr>\n",
       "    <tr>\n",
       "      <th>3</th>\n",
       "      <td>regular</td>\n",
       "      <td>4</td>\n",
       "      <td>5</td>\n",
       "      <td>0.013750</td>\n",
       "      <td>3.144400</td>\n",
       "      <td>3.892665</td>\n",
       "      <td>0.973166</td>\n",
       "      <td>0.009191</td>\n",
       "    </tr>\n",
       "    <tr>\n",
       "      <th>4</th>\n",
       "      <td>regular</td>\n",
       "      <td>1</td>\n",
       "      <td>6</td>\n",
       "      <td>0.552023</td>\n",
       "      <td>3.142388</td>\n",
       "      <td>1.000000</td>\n",
       "      <td>1.000000</td>\n",
       "      <td>0.000000</td>\n",
       "    </tr>\n",
       "    <tr>\n",
       "      <th>5</th>\n",
       "      <td>regular</td>\n",
       "      <td>2</td>\n",
       "      <td>6</td>\n",
       "      <td>0.277323</td>\n",
       "      <td>3.141784</td>\n",
       "      <td>1.990542</td>\n",
       "      <td>0.995271</td>\n",
       "      <td>0.004751</td>\n",
       "    </tr>\n",
       "    <tr>\n",
       "      <th>6</th>\n",
       "      <td>regular</td>\n",
       "      <td>3</td>\n",
       "      <td>6</td>\n",
       "      <td>0.188758</td>\n",
       "      <td>3.142788</td>\n",
       "      <td>2.924501</td>\n",
       "      <td>0.974834</td>\n",
       "      <td>0.012908</td>\n",
       "    </tr>\n",
       "    <tr>\n",
       "      <th>7</th>\n",
       "      <td>regular</td>\n",
       "      <td>4</td>\n",
       "      <td>6</td>\n",
       "      <td>0.145045</td>\n",
       "      <td>3.141184</td>\n",
       "      <td>3.805883</td>\n",
       "      <td>0.951471</td>\n",
       "      <td>0.017001</td>\n",
       "    </tr>\n",
       "    <tr>\n",
       "      <th>8</th>\n",
       "      <td>regular</td>\n",
       "      <td>1</td>\n",
       "      <td>7</td>\n",
       "      <td>5.542166</td>\n",
       "      <td>3.141630</td>\n",
       "      <td>1.000000</td>\n",
       "      <td>1.000000</td>\n",
       "      <td>0.000000</td>\n",
       "    </tr>\n",
       "    <tr>\n",
       "      <th>9</th>\n",
       "      <td>regular</td>\n",
       "      <td>2</td>\n",
       "      <td>7</td>\n",
       "      <td>2.791852</td>\n",
       "      <td>3.140376</td>\n",
       "      <td>1.985122</td>\n",
       "      <td>0.992561</td>\n",
       "      <td>0.007495</td>\n",
       "    </tr>\n",
       "    <tr>\n",
       "      <th>10</th>\n",
       "      <td>regular</td>\n",
       "      <td>3</td>\n",
       "      <td>7</td>\n",
       "      <td>1.890384</td>\n",
       "      <td>3.141899</td>\n",
       "      <td>2.931768</td>\n",
       "      <td>0.977256</td>\n",
       "      <td>0.011637</td>\n",
       "    </tr>\n",
       "    <tr>\n",
       "      <th>11</th>\n",
       "      <td>regular</td>\n",
       "      <td>4</td>\n",
       "      <td>7</td>\n",
       "      <td>1.421967</td>\n",
       "      <td>3.140876</td>\n",
       "      <td>3.897535</td>\n",
       "      <td>0.974384</td>\n",
       "      <td>0.008763</td>\n",
       "    </tr>\n",
       "  </tbody>\n",
       "</table>\n",
       "</div>"
      ],
      "text/plain": [
       "       mode  CPU  size      time        pi   speedup  efficiency      karp\n",
       "0   regular    1     5  0.053523  3.148320  1.000000    1.000000  0.000000\n",
       "1   regular    2     5  0.027216  3.136680  1.966571    0.983286  0.016999\n",
       "2   regular    3     5  0.018227  3.145960  2.936506    0.978835  0.010811\n",
       "3   regular    4     5  0.013750  3.144400  3.892665    0.973166  0.009191\n",
       "4   regular    1     6  0.552023  3.142388  1.000000    1.000000  0.000000\n",
       "5   regular    2     6  0.277323  3.141784  1.990542    0.995271  0.004751\n",
       "6   regular    3     6  0.188758  3.142788  2.924501    0.974834  0.012908\n",
       "7   regular    4     6  0.145045  3.141184  3.805883    0.951471  0.017001\n",
       "8   regular    1     7  5.542166  3.141630  1.000000    1.000000  0.000000\n",
       "9   regular    2     7  2.791852  3.140376  1.985122    0.992561  0.007495\n",
       "10  regular    3     7  1.890384  3.141899  2.931768    0.977256  0.011637\n",
       "11  regular    4     7  1.421967  3.140876  3.897535    0.974384  0.008763"
      ]
     },
     "execution_count": 2,
     "metadata": {},
     "output_type": "execute_result"
    }
   ],
   "source": [
    "path = 'results/jabba_reg.csv'\n",
    "df = pd.read_csv(path)\n",
    "\n",
    "serial_times = list(df.groupby(\"size\")[\"time\"].max())\n",
    "t = [list(e[1]) for e in list(df.groupby(\"size\")[\"time\"])]\n",
    "speedup = np.array([np.ones(4) / np.array(t[i]) * serial_times[i] for i in range(len(serial_times))]).reshape(-1)\n",
    "df[\"speedup\"] = speedup\n",
    "\n",
    "df[\"efficiency\"] = df[\"speedup\"] / df[\"CPU\"]\n",
    "\n",
    "df[\"karp\"] = (1 / df[\"speedup\"] - 1 / df[\"CPU\"]) / (1 - 1 / df[\"CPU\"])\n",
    "df = df.replace([np.inf, -np.inf], np.nan)\n",
    "df = df.fillna(0.0)\n",
    "df"
   ]
  },
  {
   "cell_type": "markdown",
   "metadata": {},
   "source": [
    "### TIME"
   ]
  },
  {
   "cell_type": "code",
   "execution_count": 3,
   "metadata": {},
   "outputs": [
    {
     "data": {
      "text/plain": [
       "<seaborn.axisgrid.FacetGrid at 0x7f37439bcc50>"
      ]
     },
     "execution_count": 3,
     "metadata": {},
     "output_type": "execute_result"
    },
    {
     "data": {
      "image/png": "[encoded data removed]",
      "text/plain": [
       "<Figure size 1080x360 with 3 Axes>"
      ]
     },
     "metadata": {
      "needs_background": "light"
     },
     "output_type": "display_data"
    }
   ],
   "source": [
    "g = sns.FacetGrid(df, col=\"size\", height=5)\n",
    "g = (g.map(plt.scatter, \"CPU\", \"time\", s=75)\n",
    "        .set_titles(\"Time vs CPU - 10^{col_name} points\")\n",
    "        .set_xlabels(\"CPUs\")\n",
    "        .set_ylabels(\"Time [s]\"))\n",
    "g.set(xticks=[1,2,3,4])"
   ]
  },
  {
   "cell_type": "markdown",
   "metadata": {},
   "source": [
    "### SPEEDUP"
   ]
  },
  {
   "cell_type": "code",
   "execution_count": 4,
   "metadata": {},
   "outputs": [
    {
     "data": {
      "text/plain": [
       "<seaborn.axisgrid.FacetGrid at 0x7f37439bcfd0>"
      ]
     },
     "execution_count": 4,
     "metadata": {},
     "output_type": "execute_result"
    },
    {
     "data": {
      "image/png": "[encoded data removed]",
      "text/plain": [
       "<Figure size 1080x360 with 3 Axes>"
      ]
     },
     "metadata": {
      "needs_background": "light"
     },
     "output_type": "display_data"
    }
   ],
   "source": [
    "g = sns.FacetGrid(df, col=\"size\", height=5)\n",
    "g = (g.map(plt.scatter, \"CPU\", \"speedup\", s=75)\n",
    "        .set_titles(\"Speedup - 10^{col_name} points\")\n",
    "        .set_xlabels(\"CPUs\")\n",
    "        .set_ylabels(\"Speedup [ts / tp]\"))\n",
    "g.set(xticks=list(range(1,5)))"
   ]
  },
  {
   "cell_type": "markdown",
   "metadata": {},
   "source": [
    "### EFFICIENCY"
   ]
  },
  {
   "cell_type": "code",
   "execution_count": 5,
   "metadata": {
    "scrolled": false
   },
   "outputs": [
    {
     "data": {
      "text/plain": [
       "<seaborn.axisgrid.FacetGrid at 0x7f37411d97b8>"
      ]
     },
     "execution_count": 5,
     "metadata": {},
     "output_type": "execute_result"
    },
    {
     "data": {
      "image/png": "[encoded data removed]",
      "text/plain": [
       "<Figure size 1080x360 with 3 Axes>"
      ]
     },
     "metadata": {
      "needs_background": "light"
     },
     "output_type": "display_data"
    }
   ],
   "source": [
    "g = sns.FacetGrid(df, col=\"size\", height=5)\n",
    "g = (g.map(plt.scatter, \"CPU\", \"efficiency\", s=75)\n",
    "        .set_titles(\"Efficiency - 10^{col_name} points\")\n",
    "        .set_xlabels(\"CPUs\")\n",
    "        .set_ylabels(\"Efficiency [ts / tp]\"))\n",
    "g.set(xticks=list(range(1,5)))"
   ]
  },
  {
   "cell_type": "markdown",
   "metadata": {},
   "source": [
    "### SERIAL FRACTION"
   ]
  },
  {
   "cell_type": "code",
   "execution_count": 6,
   "metadata": {},
   "outputs": [
    {
     "data": {
      "text/plain": [
       "<seaborn.axisgrid.FacetGrid at 0x7f3740e5d8d0>"
      ]
     },
     "execution_count": 6,
     "metadata": {},
     "output_type": "execute_result"
    },
    {
     "data": {
      "image/png": "[encoded data removed]",
      "text/plain": [
       "<Figure size 1080x360 with 3 Axes>"
      ]
     },
     "metadata": {
      "needs_background": "light"
     },
     "output_type": "display_data"
    }
   ],
   "source": [
    "g = sns.FacetGrid(df, col=\"size\", height=5)\n",
    "g = (g.map(plt.scatter, \"CPU\", \"karp\", s=75)\n",
    "        .set_titles(\"Serial fraction - 10^{col_name} points\")\n",
    "        .set_xlabels(\"CPUs\")\n",
    "        .set_ylabels(\"Serial fraction (karp)\"))\n",
    "g.set(xlim=(1.5, None))\n",
    "g.set(xticks=list(range(2,5)))"
   ]
  },
  {
   "cell_type": "markdown",
   "metadata": {},
   "source": [
    "# SCALED"
   ]
  },
  {
   "cell_type": "code",
   "execution_count": 19,
   "metadata": {},
   "outputs": [
    {
     "name": "stdout",
     "output_type": "stream",
     "text": [
      "[0.0535736083984, 0.556400537491, 5.56507611275]\n"
     ]
    },
    {
     "data": {
      "text/html": [
       "<div>\n",
       "<style scoped>\n",
       "    .dataframe tbody tr th:only-of-type {\n",
       "        vertical-align: middle;\n",
       "    }\n",
       "\n",
       "    .dataframe tbody tr th {\n",
       "        vertical-align: top;\n",
       "    }\n",
       "\n",
       "    .dataframe thead th {\n",
       "        text-align: right;\n",
       "    }\n",
       "</style>\n",
       "<table border=\"1\" class=\"dataframe\">\n",
       "  <thead>\n",
       "    <tr style=\"text-align: right;\">\n",
       "      <th></th>\n",
       "      <th>mode</th>\n",
       "      <th>CPU</th>\n",
       "      <th>size</th>\n",
       "      <th>time</th>\n",
       "      <th>pi</th>\n",
       "      <th>speedup</th>\n",
       "      <th>efficiency</th>\n",
       "      <th>karp</th>\n",
       "    </tr>\n",
       "  </thead>\n",
       "  <tbody>\n",
       "    <tr>\n",
       "      <th>0</th>\n",
       "      <td>scale</td>\n",
       "      <td>1</td>\n",
       "      <td>5</td>\n",
       "      <td>0.053574</td>\n",
       "      <td>3.137680</td>\n",
       "      <td>1.000000</td>\n",
       "      <td>1.000000</td>\n",
       "      <td>0.000000</td>\n",
       "    </tr>\n",
       "    <tr>\n",
       "      <th>1</th>\n",
       "      <td>scale</td>\n",
       "      <td>2</td>\n",
       "      <td>5</td>\n",
       "      <td>0.053811</td>\n",
       "      <td>3.142360</td>\n",
       "      <td>1.991192</td>\n",
       "      <td>0.995596</td>\n",
       "      <td>0.004424</td>\n",
       "    </tr>\n",
       "    <tr>\n",
       "      <th>2</th>\n",
       "      <td>scale</td>\n",
       "      <td>3</td>\n",
       "      <td>5</td>\n",
       "      <td>0.055421</td>\n",
       "      <td>3.144053</td>\n",
       "      <td>2.900005</td>\n",
       "      <td>0.966668</td>\n",
       "      <td>0.017240</td>\n",
       "    </tr>\n",
       "    <tr>\n",
       "      <th>3</th>\n",
       "      <td>scale</td>\n",
       "      <td>4</td>\n",
       "      <td>5</td>\n",
       "      <td>0.054728</td>\n",
       "      <td>3.145710</td>\n",
       "      <td>3.915642</td>\n",
       "      <td>0.978910</td>\n",
       "      <td>0.007181</td>\n",
       "    </tr>\n",
       "    <tr>\n",
       "      <th>4</th>\n",
       "      <td>scale</td>\n",
       "      <td>1</td>\n",
       "      <td>6</td>\n",
       "      <td>0.556401</td>\n",
       "      <td>3.139912</td>\n",
       "      <td>1.000000</td>\n",
       "      <td>1.000000</td>\n",
       "      <td>0.000000</td>\n",
       "    </tr>\n",
       "    <tr>\n",
       "      <th>5</th>\n",
       "      <td>scale</td>\n",
       "      <td>2</td>\n",
       "      <td>6</td>\n",
       "      <td>0.560817</td>\n",
       "      <td>3.142252</td>\n",
       "      <td>1.984251</td>\n",
       "      <td>0.992125</td>\n",
       "      <td>0.007937</td>\n",
       "    </tr>\n",
       "    <tr>\n",
       "      <th>6</th>\n",
       "      <td>scale</td>\n",
       "      <td>3</td>\n",
       "      <td>6</td>\n",
       "      <td>0.562910</td>\n",
       "      <td>3.140955</td>\n",
       "      <td>2.965308</td>\n",
       "      <td>0.988436</td>\n",
       "      <td>0.005850</td>\n",
       "    </tr>\n",
       "    <tr>\n",
       "      <th>7</th>\n",
       "      <td>scale</td>\n",
       "      <td>4</td>\n",
       "      <td>6</td>\n",
       "      <td>0.566770</td>\n",
       "      <td>3.141618</td>\n",
       "      <td>3.926818</td>\n",
       "      <td>0.981705</td>\n",
       "      <td>0.006212</td>\n",
       "    </tr>\n",
       "    <tr>\n",
       "      <th>8</th>\n",
       "      <td>scale</td>\n",
       "      <td>1</td>\n",
       "      <td>7</td>\n",
       "      <td>5.565076</td>\n",
       "      <td>3.142941</td>\n",
       "      <td>1.000000</td>\n",
       "      <td>1.000000</td>\n",
       "      <td>0.000000</td>\n",
       "    </tr>\n",
       "    <tr>\n",
       "      <th>9</th>\n",
       "      <td>scale</td>\n",
       "      <td>2</td>\n",
       "      <td>7</td>\n",
       "      <td>5.583234</td>\n",
       "      <td>3.141454</td>\n",
       "      <td>1.993496</td>\n",
       "      <td>0.996748</td>\n",
       "      <td>0.003263</td>\n",
       "    </tr>\n",
       "    <tr>\n",
       "      <th>10</th>\n",
       "      <td>scale</td>\n",
       "      <td>3</td>\n",
       "      <td>7</td>\n",
       "      <td>5.612742</td>\n",
       "      <td>3.141849</td>\n",
       "      <td>2.974522</td>\n",
       "      <td>0.991507</td>\n",
       "      <td>0.004283</td>\n",
       "    </tr>\n",
       "    <tr>\n",
       "      <th>11</th>\n",
       "      <td>scale</td>\n",
       "      <td>4</td>\n",
       "      <td>7</td>\n",
       "      <td>5.623516</td>\n",
       "      <td>3.141337</td>\n",
       "      <td>3.958432</td>\n",
       "      <td>0.989608</td>\n",
       "      <td>0.003500</td>\n",
       "    </tr>\n",
       "  </tbody>\n",
       "</table>\n",
       "</div>"
      ],
      "text/plain": [
       "     mode  CPU  size      time        pi   speedup  efficiency      karp\n",
       "0   scale    1     5  0.053574  3.137680  1.000000    1.000000  0.000000\n",
       "1   scale    2     5  0.053811  3.142360  1.991192    0.995596  0.004424\n",
       "2   scale    3     5  0.055421  3.144053  2.900005    0.966668  0.017240\n",
       "3   scale    4     5  0.054728  3.145710  3.915642    0.978910  0.007181\n",
       "4   scale    1     6  0.556401  3.139912  1.000000    1.000000  0.000000\n",
       "5   scale    2     6  0.560817  3.142252  1.984251    0.992125  0.007937\n",
       "6   scale    3     6  0.562910  3.140955  2.965308    0.988436  0.005850\n",
       "7   scale    4     6  0.566770  3.141618  3.926818    0.981705  0.006212\n",
       "8   scale    1     7  5.565076  3.142941  1.000000    1.000000  0.000000\n",
       "9   scale    2     7  5.583234  3.141454  1.993496    0.996748  0.003263\n",
       "10  scale    3     7  5.612742  3.141849  2.974522    0.991507  0.004283\n",
       "11  scale    4     7  5.623516  3.141337  3.958432    0.989608  0.003500"
      ]
     },
     "execution_count": 19,
     "metadata": {},
     "output_type": "execute_result"
    }
   ],
   "source": [
    "path = 'results/jabba_scale.csv'\n",
    "df = pd.read_csv(path)\n",
    "\n",
    "serial_times = list(df.groupby(\"size\")[\"time\"].min())\n",
    "t = [list(e[1]) for e in list(df.groupby(\"size\")[\"time\"])]\n",
    "print(serial_times)\n",
    "speedup = np.array([np.ones(4) / np.array(t[i]) * serial_times[i] for i in range(len(serial_times))]).reshape(-1)\n",
    "df[\"speedup\"] = speedup * df[\"CPU\"]\n",
    "\n",
    "df[\"efficiency\"] = df[\"speedup\"] / df[\"CPU\"]\n",
    "\n",
    "df[\"karp\"] = (1 / df[\"speedup\"] - 1 / df[\"CPU\"]) / (1 - 1 / df[\"CPU\"])\n",
    "df = df.replace([np.inf, -np.inf], np.nan)\n",
    "df = df.fillna(0.0)\n",
    "df"
   ]
  },
  {
   "cell_type": "markdown",
   "metadata": {},
   "source": [
    "### TIME"
   ]
  },
  {
   "cell_type": "code",
   "execution_count": 20,
   "metadata": {},
   "outputs": [
    {
     "data": {
      "text/plain": [
       "<seaborn.axisgrid.FacetGrid at 0x7f373ee77978>"
      ]
     },
     "execution_count": 20,
     "metadata": {},
     "output_type": "execute_result"
    },
    {
     "data": {
      "image/png": "[encoded data removed]",
      "text/plain": [
       "<Figure size 1080x360 with 3 Axes>"
      ]
     },
     "metadata": {
      "needs_background": "light"
     },
     "output_type": "display_data"
    }
   ],
   "source": [
    "g = sns.FacetGrid(df, col=\"size\", height=5)\n",
    "g = (g.map(plt.scatter, \"CPU\", \"time\", s=75)\n",
    "        .set_titles(\"Time vs CPU - 10^{col_name} points\")\n",
    "        .set_xlabels(\"CPUs\")\n",
    "        .set_ylabels(\"Time [s]\"))\n",
    "g.set(xticks=list(range(1,5)))"
   ]
  },
  {
   "cell_type": "markdown",
   "metadata": {},
   "source": [
    "### SPEEDUP"
   ]
  },
  {
   "cell_type": "code",
   "execution_count": 21,
   "metadata": {},
   "outputs": [
    {
     "data": {
      "text/plain": [
       "<seaborn.axisgrid.FacetGrid at 0x7f373e2b6438>"
      ]
     },
     "execution_count": 21,
     "metadata": {},
     "output_type": "execute_result"
    },
    {
     "data": {
      "image/png": "[encoded data removed]",
      "text/plain": [
       "<Figure size 1080x360 with 3 Axes>"
      ]
     },
     "metadata": {
      "needs_background": "light"
     },
     "output_type": "display_data"
    }
   ],
   "source": [
    "g = sns.FacetGrid(df, col=\"size\", height=5)\n",
    "g = (g.map(plt.scatter, \"CPU\", \"speedup\", s=75)\n",
    "        .set_titles(\"Speedup - 10^{col_name} points\")\n",
    "        .set_xlabels(\"CPUs\")\n",
    "        .set_ylabels(\"Speedup [ts / tp]\"))\n",
    "g.set(xticks=list(range(1,5)))"
   ]
  },
  {
   "cell_type": "markdown",
   "metadata": {},
   "source": [
    "### EFFICIENCY"
   ]
  },
  {
   "cell_type": "code",
   "execution_count": 22,
   "metadata": {},
   "outputs": [
    {
     "data": {
      "text/plain": [
       "<seaborn.axisgrid.FacetGrid at 0x7f373de7c5f8>"
      ]
     },
     "execution_count": 22,
     "metadata": {},
     "output_type": "execute_result"
    },
    {
     "data": {
      "image/png": "[encoded data removed]",
      "text/plain": [
       "<Figure size 1080x360 with 3 Axes>"
      ]
     },
     "metadata": {
      "needs_background": "light"
     },
     "output_type": "display_data"
    }
   ],
   "source": [
    "g = sns.FacetGrid(df, col=\"size\",height=5)\n",
    "g = (g.map(plt.scatter, \"CPU\", \"efficiency\", s=75)\n",
    "        .set_titles(\"Efficiency - 10^{col_name} points\")\n",
    "        .set_xlabels(\"CPUs\")\n",
    "        .set_ylabels(\"Efficiency [ts / tp]\"))\n",
    "g.set(xticks=list(range(1,5)))\n",
    "# g.set(ylim=(0.1,1.1))"
   ]
  },
  {
   "cell_type": "markdown",
   "metadata": {},
   "source": [
    "### SERIAL FRACTION"
   ]
  }
 ],
 "metadata": {
  "file_extension": ".py",
  "kernelspec": {
   "display_name": "Python 3",
   "language": "python",
   "name": "python3"
  },
  "language_info": {
   "codemirror_mode": {
    "name": "ipython",
    "version": 3
   },
   "file_extension": ".py",
   "mimetype": "text/x-python",
   "name": "python",
   "nbconvert_exporter": "python",
   "pygments_lexer": "ipython3",
   "version": "3.7.2"
  },
  "mimetype": "text/x-python",
  "name": "python",
  "npconvert_exporter": "python",
  "pygments_lexer": "ipython3",
  "version": 3
 },
 "nbformat": 4,
 "nbformat_minor": 2
}
