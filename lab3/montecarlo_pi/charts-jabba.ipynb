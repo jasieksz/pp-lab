{
 "cells": [
  {
   "cell_type": "code",
   "execution_count": 1,
   "metadata": {},
   "outputs": [],
   "source": [
    "import pandas as pd\n",
    "import numpy as np \n",
    "import seaborn as sns\n",
    "from matplotlib import pyplot as plt"
   ]
  },
  {
   "cell_type": "markdown",
   "metadata": {},
   "source": [
    "# REGULAR"
   ]
  },
  {
   "cell_type": "code",
   "execution_count": 38,
   "metadata": {},
   "outputs": [
    {
     "data": {
      "text/html": [
       "<div>\n",
       "<style scoped>\n",
       "    .dataframe tbody tr th:only-of-type {\n",
       "        vertical-align: middle;\n",
       "    }\n",
       "\n",
       "    .dataframe tbody tr th {\n",
       "        vertical-align: top;\n",
       "    }\n",
       "\n",
       "    .dataframe thead th {\n",
       "        text-align: right;\n",
       "    }\n",
       "</style>\n",
       "<table border=\"1\" class=\"dataframe\">\n",
       "  <thead>\n",
       "    <tr style=\"text-align: right;\">\n",
       "      <th></th>\n",
       "      <th>mode</th>\n",
       "      <th>CPU</th>\n",
       "      <th>size</th>\n",
       "      <th>time</th>\n",
       "      <th>pi</th>\n",
       "      <th>speedup</th>\n",
       "      <th>efficiency</th>\n",
       "      <th>karp</th>\n",
       "    </tr>\n",
       "  </thead>\n",
       "  <tbody>\n",
       "    <tr>\n",
       "      <th>0</th>\n",
       "      <td>regular</td>\n",
       "      <td>1</td>\n",
       "      <td>5</td>\n",
       "      <td>0.053448</td>\n",
       "      <td>3.135080</td>\n",
       "      <td>1.000000</td>\n",
       "      <td>1.000000</td>\n",
       "      <td>0.000000</td>\n",
       "    </tr>\n",
       "    <tr>\n",
       "      <th>1</th>\n",
       "      <td>regular</td>\n",
       "      <td>2</td>\n",
       "      <td>5</td>\n",
       "      <td>0.026978</td>\n",
       "      <td>3.138560</td>\n",
       "      <td>1.981167</td>\n",
       "      <td>0.990584</td>\n",
       "      <td>0.009506</td>\n",
       "    </tr>\n",
       "    <tr>\n",
       "      <th>2</th>\n",
       "      <td>regular</td>\n",
       "      <td>3</td>\n",
       "      <td>5</td>\n",
       "      <td>0.018073</td>\n",
       "      <td>3.144080</td>\n",
       "      <td>2.957390</td>\n",
       "      <td>0.985797</td>\n",
       "      <td>0.007204</td>\n",
       "    </tr>\n",
       "    <tr>\n",
       "      <th>3</th>\n",
       "      <td>regular</td>\n",
       "      <td>4</td>\n",
       "      <td>5</td>\n",
       "      <td>0.013590</td>\n",
       "      <td>3.138560</td>\n",
       "      <td>3.932827</td>\n",
       "      <td>0.983207</td>\n",
       "      <td>0.005693</td>\n",
       "    </tr>\n",
       "    <tr>\n",
       "      <th>4</th>\n",
       "      <td>regular</td>\n",
       "      <td>1</td>\n",
       "      <td>6</td>\n",
       "      <td>0.559447</td>\n",
       "      <td>3.141816</td>\n",
       "      <td>1.000000</td>\n",
       "      <td>1.000000</td>\n",
       "      <td>0.000000</td>\n",
       "    </tr>\n",
       "    <tr>\n",
       "      <th>5</th>\n",
       "      <td>regular</td>\n",
       "      <td>2</td>\n",
       "      <td>6</td>\n",
       "      <td>0.281435</td>\n",
       "      <td>3.142396</td>\n",
       "      <td>1.987836</td>\n",
       "      <td>0.993918</td>\n",
       "      <td>0.006119</td>\n",
       "    </tr>\n",
       "    <tr>\n",
       "      <th>6</th>\n",
       "      <td>regular</td>\n",
       "      <td>3</td>\n",
       "      <td>6</td>\n",
       "      <td>0.189039</td>\n",
       "      <td>3.141780</td>\n",
       "      <td>2.959430</td>\n",
       "      <td>0.986477</td>\n",
       "      <td>0.006854</td>\n",
       "    </tr>\n",
       "    <tr>\n",
       "      <th>7</th>\n",
       "      <td>regular</td>\n",
       "      <td>4</td>\n",
       "      <td>6</td>\n",
       "      <td>0.141800</td>\n",
       "      <td>3.140256</td>\n",
       "      <td>3.945314</td>\n",
       "      <td>0.986328</td>\n",
       "      <td>0.004620</td>\n",
       "    </tr>\n",
       "    <tr>\n",
       "      <th>8</th>\n",
       "      <td>regular</td>\n",
       "      <td>1</td>\n",
       "      <td>7</td>\n",
       "      <td>5.544265</td>\n",
       "      <td>3.141013</td>\n",
       "      <td>1.000000</td>\n",
       "      <td>1.000000</td>\n",
       "      <td>0.000000</td>\n",
       "    </tr>\n",
       "    <tr>\n",
       "      <th>9</th>\n",
       "      <td>regular</td>\n",
       "      <td>2</td>\n",
       "      <td>7</td>\n",
       "      <td>2.825479</td>\n",
       "      <td>3.142527</td>\n",
       "      <td>1.962239</td>\n",
       "      <td>0.981119</td>\n",
       "      <td>0.019244</td>\n",
       "    </tr>\n",
       "    <tr>\n",
       "      <th>10</th>\n",
       "      <td>regular</td>\n",
       "      <td>3</td>\n",
       "      <td>7</td>\n",
       "      <td>1.919881</td>\n",
       "      <td>3.141534</td>\n",
       "      <td>2.887818</td>\n",
       "      <td>0.962606</td>\n",
       "      <td>0.019423</td>\n",
       "    </tr>\n",
       "    <tr>\n",
       "      <th>11</th>\n",
       "      <td>regular</td>\n",
       "      <td>4</td>\n",
       "      <td>7</td>\n",
       "      <td>1.415800</td>\n",
       "      <td>3.141278</td>\n",
       "      <td>3.915996</td>\n",
       "      <td>0.978999</td>\n",
       "      <td>0.007151</td>\n",
       "    </tr>\n",
       "  </tbody>\n",
       "</table>\n",
       "</div>"
      ],
      "text/plain": [
       "       mode  CPU  size      time        pi   speedup  efficiency      karp\n",
       "0   regular    1     5  0.053448  3.135080  1.000000    1.000000  0.000000\n",
       "1   regular    2     5  0.026978  3.138560  1.981167    0.990584  0.009506\n",
       "2   regular    3     5  0.018073  3.144080  2.957390    0.985797  0.007204\n",
       "3   regular    4     5  0.013590  3.138560  3.932827    0.983207  0.005693\n",
       "4   regular    1     6  0.559447  3.141816  1.000000    1.000000  0.000000\n",
       "5   regular    2     6  0.281435  3.142396  1.987836    0.993918  0.006119\n",
       "6   regular    3     6  0.189039  3.141780  2.959430    0.986477  0.006854\n",
       "7   regular    4     6  0.141800  3.140256  3.945314    0.986328  0.004620\n",
       "8   regular    1     7  5.544265  3.141013  1.000000    1.000000  0.000000\n",
       "9   regular    2     7  2.825479  3.142527  1.962239    0.981119  0.019244\n",
       "10  regular    3     7  1.919881  3.141534  2.887818    0.962606  0.019423\n",
       "11  regular    4     7  1.415800  3.141278  3.915996    0.978999  0.007151"
      ]
     },
     "execution_count": 38,
     "metadata": {},
     "output_type": "execute_result"
    }
   ],
   "source": [
    "path = 'results/jabba_reg.csv'\n",
    "df = pd.read_csv(path)\n",
    "\n",
    "serial_times = list(df.groupby(\"size\")[\"time\"].max())\n",
    "t = [list(e[1]) for e in list(df.groupby(\"size\")[\"time\"])]\n",
    "speedup = np.array([np.ones(4) / np.array(t[i]) * serial_times[i] for i in range(len(serial_times))]).reshape(-1)\n",
    "df[\"speedup\"] = speedup\n",
    "\n",
    "df[\"efficiency\"] = df[\"speedup\"] / df[\"CPU\"]\n",
    "\n",
    "df[\"karp\"] = (1 / df[\"speedup\"] - 1 / df[\"CPU\"]) / (1 - 1 / df[\"CPU\"])\n",
    "df = df.replace([np.inf, -np.inf], np.nan)\n",
    "df = df.fillna(0.0)\n",
    "df"
   ]
  },
  {
   "cell_type": "markdown",
   "metadata": {},
   "source": [
    "### TIME"
   ]
  },
  {
   "cell_type": "code",
   "execution_count": 39,
   "metadata": {},
   "outputs": [
    {
     "data": {
      "text/plain": [
       "<seaborn.axisgrid.FacetGrid at 0x7f6b74516d68>"
      ]
     },
     "execution_count": 39,
     "metadata": {},
     "output_type": "execute_result"
    },
    {
     "data": {
      "image/png": "[encoded data removed]",
      "text/plain": [
       "<Figure size 1080x360 with 3 Axes>"
      ]
     },
     "metadata": {
      "needs_background": "light"
     },
     "output_type": "display_data"
    }
   ],
   "source": [
    "g = sns.FacetGrid(df, col=\"size\", height=5)\n",
    "g = (g.map(plt.scatter, \"CPU\", \"time\", s=75)\n",
    "        .set_titles(\"Time vs CPU - 10^{col_name} points\")\n",
    "        .set_xlabels(\"CPUs\")\n",
    "        .set_ylabels(\"Time [s]\"))\n",
    "g.set(xticks=[1,2,3,4])"
   ]
  },
  {
   "cell_type": "markdown",
   "metadata": {},
   "source": [
    "### SPEEDUP"
   ]
  },
  {
   "cell_type": "code",
   "execution_count": 40,
   "metadata": {},
   "outputs": [
    {
     "data": {
      "text/plain": [
       "<seaborn.axisgrid.FacetGrid at 0x7f6b741419e8>"
      ]
     },
     "execution_count": 40,
     "metadata": {},
     "output_type": "execute_result"
    },
    {
     "data": {
      "image/png": "[encoded data removed]",
      "text/plain": [
       "<Figure size 1080x360 with 3 Axes>"
      ]
     },
     "metadata": {
      "needs_background": "light"
     },
     "output_type": "display_data"
    }
   ],
   "source": [
    "g = sns.FacetGrid(df, col=\"size\", height=5)\n",
    "g = (g.map(plt.scatter, \"CPU\", \"speedup\", s=75)\n",
    "        .set_titles(\"Speedup - 10^{col_name} points\")\n",
    "        .set_xlabels(\"CPUs\")\n",
    "        .set_ylabels(\"Speedup [ts / tp]\"))\n",
    "g.set(xticks=list(range(1,5)))"
   ]
  },
  {
   "cell_type": "markdown",
   "metadata": {},
   "source": [
    "### EFFICIENCY"
   ]
  },
  {
   "cell_type": "code",
   "execution_count": 41,
   "metadata": {
    "scrolled": false
   },
   "outputs": [
    {
     "data": {
      "text/plain": [
       "<seaborn.axisgrid.FacetGrid at 0x7f6b74186a58>"
      ]
     },
     "execution_count": 41,
     "metadata": {},
     "output_type": "execute_result"
    },
    {
     "data": {
      "image/png": "[encoded data removed]",
      "text/plain": [
       "<Figure size 1080x360 with 3 Axes>"
      ]
     },
     "metadata": {
      "needs_background": "light"
     },
     "output_type": "display_data"
    }
   ],
   "source": [
    "g = sns.FacetGrid(df, col=\"size\", height=5)\n",
    "g = (g.map(plt.scatter, \"CPU\", \"efficiency\", s=75)\n",
    "        .set_titles(\"Efficiency - 10^{col_name} points\")\n",
    "        .set_xlabels(\"CPUs\")\n",
    "        .set_ylabels(\"Efficiency [ts / tp]\"))\n",
    "g.set(xticks=list(range(1,5)))"
   ]
  },
  {
   "cell_type": "markdown",
   "metadata": {},
   "source": [
    "### SERIAL FRACTION"
   ]
  },
  {
   "cell_type": "code",
   "execution_count": 42,
   "metadata": {},
   "outputs": [
    {
     "data": {
      "text/plain": [
       "<seaborn.axisgrid.FacetGrid at 0x7f6b741719e8>"
      ]
     },
     "execution_count": 42,
     "metadata": {},
     "output_type": "execute_result"
    },
    {
     "data": {
      "image/png": "[encoded data removed]",
      "text/plain": [
       "<Figure size 1080x360 with 3 Axes>"
      ]
     },
     "metadata": {
      "needs_background": "light"
     },
     "output_type": "display_data"
    }
   ],
   "source": [
    "g = sns.FacetGrid(df, col=\"size\", height=5)\n",
    "g = (g.map(plt.scatter, \"CPU\", \"karp\", s=75)\n",
    "        .set_titles(\"Efficiency - 10^{col_name} points\")\n",
    "        .set_xlabels(\"CPUs\")\n",
    "        .set_ylabels(\"Serial fraction (karp)\"))\n",
    "g.set(xlim=(1.5, None))\n",
    "g.set(xticks=list(range(2,5)))"
   ]
  },
  {
   "cell_type": "markdown",
   "metadata": {},
   "source": [
    "# SCALED"
   ]
  },
  {
   "cell_type": "code",
   "execution_count": 44,
   "metadata": {},
   "outputs": [
    {
     "name": "stdout",
     "output_type": "stream",
     "text": [
      "[0.053504467010500004, 0.560136079788, 5.61586833]\n"
     ]
    },
    {
     "data": {
      "text/html": [
       "<div>\n",
       "<style scoped>\n",
       "    .dataframe tbody tr th:only-of-type {\n",
       "        vertical-align: middle;\n",
       "    }\n",
       "\n",
       "    .dataframe tbody tr th {\n",
       "        vertical-align: top;\n",
       "    }\n",
       "\n",
       "    .dataframe thead th {\n",
       "        text-align: right;\n",
       "    }\n",
       "</style>\n",
       "<table border=\"1\" class=\"dataframe\">\n",
       "  <thead>\n",
       "    <tr style=\"text-align: right;\">\n",
       "      <th></th>\n",
       "      <th>mode</th>\n",
       "      <th>CPU</th>\n",
       "      <th>size</th>\n",
       "      <th>time</th>\n",
       "      <th>pi</th>\n",
       "      <th>speedup</th>\n",
       "      <th>efficiency</th>\n",
       "      <th>karp</th>\n",
       "    </tr>\n",
       "  </thead>\n",
       "  <tbody>\n",
       "    <tr>\n",
       "      <th>0</th>\n",
       "      <td>scale</td>\n",
       "      <td>1</td>\n",
       "      <td>5</td>\n",
       "      <td>0.053504</td>\n",
       "      <td>3.134560</td>\n",
       "      <td>1.000000</td>\n",
       "      <td>1.000000</td>\n",
       "      <td>0.000000</td>\n",
       "    </tr>\n",
       "    <tr>\n",
       "      <th>1</th>\n",
       "      <td>scale</td>\n",
       "      <td>2</td>\n",
       "      <td>5</td>\n",
       "      <td>0.054856</td>\n",
       "      <td>3.140760</td>\n",
       "      <td>1.950722</td>\n",
       "      <td>0.975361</td>\n",
       "      <td>0.025261</td>\n",
       "    </tr>\n",
       "    <tr>\n",
       "      <th>2</th>\n",
       "      <td>scale</td>\n",
       "      <td>3</td>\n",
       "      <td>5</td>\n",
       "      <td>0.056634</td>\n",
       "      <td>3.136507</td>\n",
       "      <td>2.834226</td>\n",
       "      <td>0.944742</td>\n",
       "      <td>0.029245</td>\n",
       "    </tr>\n",
       "    <tr>\n",
       "      <th>3</th>\n",
       "      <td>scale</td>\n",
       "      <td>4</td>\n",
       "      <td>5</td>\n",
       "      <td>0.054521</td>\n",
       "      <td>3.141240</td>\n",
       "      <td>3.925398</td>\n",
       "      <td>0.981349</td>\n",
       "      <td>0.006335</td>\n",
       "    </tr>\n",
       "    <tr>\n",
       "      <th>4</th>\n",
       "      <td>scale</td>\n",
       "      <td>1</td>\n",
       "      <td>6</td>\n",
       "      <td>0.560807</td>\n",
       "      <td>3.145328</td>\n",
       "      <td>0.998805</td>\n",
       "      <td>0.998805</td>\n",
       "      <td>0.000000</td>\n",
       "    </tr>\n",
       "    <tr>\n",
       "      <th>5</th>\n",
       "      <td>scale</td>\n",
       "      <td>2</td>\n",
       "      <td>6</td>\n",
       "      <td>0.560136</td>\n",
       "      <td>3.141882</td>\n",
       "      <td>2.000000</td>\n",
       "      <td>1.000000</td>\n",
       "      <td>0.000000</td>\n",
       "    </tr>\n",
       "    <tr>\n",
       "      <th>6</th>\n",
       "      <td>scale</td>\n",
       "      <td>3</td>\n",
       "      <td>6</td>\n",
       "      <td>0.569819</td>\n",
       "      <td>3.141368</td>\n",
       "      <td>2.949020</td>\n",
       "      <td>0.983007</td>\n",
       "      <td>0.008644</td>\n",
       "    </tr>\n",
       "    <tr>\n",
       "      <th>7</th>\n",
       "      <td>scale</td>\n",
       "      <td>4</td>\n",
       "      <td>6</td>\n",
       "      <td>0.575963</td>\n",
       "      <td>3.140691</td>\n",
       "      <td>3.890087</td>\n",
       "      <td>0.972522</td>\n",
       "      <td>0.009418</td>\n",
       "    </tr>\n",
       "    <tr>\n",
       "      <th>8</th>\n",
       "      <td>scale</td>\n",
       "      <td>1</td>\n",
       "      <td>7</td>\n",
       "      <td>5.615868</td>\n",
       "      <td>3.142210</td>\n",
       "      <td>1.000000</td>\n",
       "      <td>1.000000</td>\n",
       "      <td>0.000000</td>\n",
       "    </tr>\n",
       "    <tr>\n",
       "      <th>9</th>\n",
       "      <td>scale</td>\n",
       "      <td>2</td>\n",
       "      <td>7</td>\n",
       "      <td>5.649308</td>\n",
       "      <td>3.141605</td>\n",
       "      <td>1.988162</td>\n",
       "      <td>0.994081</td>\n",
       "      <td>0.005954</td>\n",
       "    </tr>\n",
       "    <tr>\n",
       "      <th>10</th>\n",
       "      <td>scale</td>\n",
       "      <td>3</td>\n",
       "      <td>7</td>\n",
       "      <td>5.665825</td>\n",
       "      <td>3.141858</td>\n",
       "      <td>2.973548</td>\n",
       "      <td>0.991183</td>\n",
       "      <td>0.004448</td>\n",
       "    </tr>\n",
       "    <tr>\n",
       "      <th>11</th>\n",
       "      <td>scale</td>\n",
       "      <td>4</td>\n",
       "      <td>7</td>\n",
       "      <td>5.727430</td>\n",
       "      <td>3.141205</td>\n",
       "      <td>3.922086</td>\n",
       "      <td>0.980521</td>\n",
       "      <td>0.006622</td>\n",
       "    </tr>\n",
       "  </tbody>\n",
       "</table>\n",
       "</div>"
      ],
      "text/plain": [
       "     mode  CPU  size      time        pi   speedup  efficiency      karp\n",
       "0   scale    1     5  0.053504  3.134560  1.000000    1.000000  0.000000\n",
       "1   scale    2     5  0.054856  3.140760  1.950722    0.975361  0.025261\n",
       "2   scale    3     5  0.056634  3.136507  2.834226    0.944742  0.029245\n",
       "3   scale    4     5  0.054521  3.141240  3.925398    0.981349  0.006335\n",
       "4   scale    1     6  0.560807  3.145328  0.998805    0.998805  0.000000\n",
       "5   scale    2     6  0.560136  3.141882  2.000000    1.000000  0.000000\n",
       "6   scale    3     6  0.569819  3.141368  2.949020    0.983007  0.008644\n",
       "7   scale    4     6  0.575963  3.140691  3.890087    0.972522  0.009418\n",
       "8   scale    1     7  5.615868  3.142210  1.000000    1.000000  0.000000\n",
       "9   scale    2     7  5.649308  3.141605  1.988162    0.994081  0.005954\n",
       "10  scale    3     7  5.665825  3.141858  2.973548    0.991183  0.004448\n",
       "11  scale    4     7  5.727430  3.141205  3.922086    0.980521  0.006622"
      ]
     },
     "execution_count": 44,
     "metadata": {},
     "output_type": "execute_result"
    }
   ],
   "source": [
    "path = 'results/jabba_scale.csv'\n",
    "df = pd.read_csv(path)\n",
    "\n",
    "serial_times = list(df.groupby(\"size\")[\"time\"].min())\n",
    "t = [list(e[1]) for e in list(df.groupby(\"size\")[\"time\"])]\n",
    "print(serial_times)\n",
    "speedup = np.array([np.ones(4) / np.array(t[i]) * serial_times[i] for i in range(len(serial_times))]).reshape(-1)\n",
    "df[\"speedup\"] = speedup * df[\"CPU\"]\n",
    "\n",
    "df[\"efficiency\"] = df[\"speedup\"] / df[\"CPU\"]\n",
    "\n",
    "df[\"karp\"] = (1 / df[\"speedup\"] - 1 / df[\"CPU\"]) / (1 - 1 / df[\"CPU\"])\n",
    "df = df.replace([np.inf, -np.inf], np.nan)\n",
    "df = df.fillna(0.0)\n",
    "df"
   ]
  },
  {
   "cell_type": "markdown",
   "metadata": {},
   "source": [
    "### TIME"
   ]
  },
  {
   "cell_type": "code",
   "execution_count": 45,
   "metadata": {},
   "outputs": [
    {
     "data": {
      "text/plain": [
       "<seaborn.axisgrid.FacetGrid at 0x7f6b73c53b38>"
      ]
     },
     "execution_count": 45,
     "metadata": {},
     "output_type": "execute_result"
    },
    {
     "data": {
      "image/png": "[encoded data removed]",
      "text/plain": [
       "<Figure size 1080x360 with 3 Axes>"
      ]
     },
     "metadata": {
      "needs_background": "light"
     },
     "output_type": "display_data"
    }
   ],
   "source": [
    "g = sns.FacetGrid(df, col=\"size\", height=5)\n",
    "g = (g.map(plt.scatter, \"CPU\", \"time\", s=75)\n",
    "        .set_titles(\"Time vs CPU - 10^{col_name} points\")\n",
    "        .set_xlabels(\"CPUs\")\n",
    "        .set_ylabels(\"Time [s]\"))\n",
    "g.set(xticks=list(range(1,5)))"
   ]
  },
  {
   "cell_type": "markdown",
   "metadata": {},
   "source": [
    "### SPEEDUP"
   ]
  },
  {
   "cell_type": "code",
   "execution_count": 46,
   "metadata": {},
   "outputs": [
    {
     "data": {
      "text/plain": [
       "<seaborn.axisgrid.FacetGrid at 0x7f6b73b80b00>"
      ]
     },
     "execution_count": 46,
     "metadata": {},
     "output_type": "execute_result"
    },
    {
     "data": {
      "image/png": "[encoded data removed]",
      "text/plain": [
       "<Figure size 1080x360 with 3 Axes>"
      ]
     },
     "metadata": {
      "needs_background": "light"
     },
     "output_type": "display_data"
    }
   ],
   "source": [
    "g = sns.FacetGrid(df, col=\"size\", height=5)\n",
    "g = (g.map(plt.scatter, \"CPU\", \"speedup\", s=75)\n",
    "        .set_titles(\"Speedup - 10^{col_name} points\")\n",
    "        .set_xlabels(\"CPUs\")\n",
    "        .set_ylabels(\"Speedup [ts / tp]\"))\n",
    "g.set(xticks=list(range(1,5)))"
   ]
  },
  {
   "cell_type": "markdown",
   "metadata": {},
   "source": [
    "### EFFICIENCY"
   ]
  },
  {
   "cell_type": "code",
   "execution_count": 47,
   "metadata": {},
   "outputs": [
    {
     "data": {
      "text/plain": [
       "<seaborn.axisgrid.FacetGrid at 0x7f6b73a5a6d8>"
      ]
     },
     "execution_count": 47,
     "metadata": {},
     "output_type": "execute_result"
    },
    {
     "data": {
      "image/png": "[encoded data removed]",
      "text/plain": [
       "<Figure size 1080x360 with 3 Axes>"
      ]
     },
     "metadata": {
      "needs_background": "light"
     },
     "output_type": "display_data"
    }
   ],
   "source": [
    "g = sns.FacetGrid(df, col=\"size\",height=5)\n",
    "g = (g.map(plt.scatter, \"CPU\", \"efficiency\", s=75)\n",
    "        .set_titles(\"Efficiency - 10^{col_name} points\")\n",
    "        .set_xlabels(\"CPUs\")\n",
    "        .set_ylabels(\"Efficiency [ts / tp]\"))\n",
    "g.set(xticks=list(range(1,5)))"
   ]
  },
  {
   "cell_type": "markdown",
   "metadata": {},
   "source": [
    "### SERIAL FRACTION"
   ]
  },
  {
   "cell_type": "code",
   "execution_count": 48,
   "metadata": {},
   "outputs": [
    {
     "data": {
      "text/plain": [
       "<seaborn.axisgrid.FacetGrid at 0x7f6b73962438>"
      ]
     },
     "execution_count": 48,
     "metadata": {},
     "output_type": "execute_result"
    },
    {
     "data": {
      "image/png": "[encoded data removed]",
      "text/plain": [
       "<Figure size 1080x360 with 3 Axes>"
      ]
     },
     "metadata": {
      "needs_background": "light"
     },
     "output_type": "display_data"
    }
   ],
   "source": [
    "g = sns.FacetGrid(df, col=\"size\", height=5)\n",
    "g = (g.map(plt.scatter, \"CPU\", \"karp\", s=75)\n",
    "        .set_titles(\"Efficiency - 10^{col_name} points\")\n",
    "        .set_xlabels(\"CPUs\")\n",
    "        .set_ylabels(\"Efficiency [ts / tp]\"))\n",
    "g.set(xlim=(1.5, None))\n",
    "g.set(xticks=list(range(2,5)))"
   ]
  }
 ],
 "metadata": {
  "file_extension": ".py",
  "kernelspec": {
   "display_name": "Python 3",
   "language": "python",
   "name": "python3"
  },
  "language_info": {
   "codemirror_mode": {
    "name": "ipython",
    "version": 3
   },
   "file_extension": ".py",
   "mimetype": "text/x-python",
   "name": "python",
   "nbconvert_exporter": "python",
   "pygments_lexer": "ipython3",
   "version": "3.7.2"
  },
  "mimetype": "text/x-python",
  "name": "python",
  "npconvert_exporter": "python",
  "pygments_lexer": "ipython3",
  "version": 3
 },
 "nbformat": 4,
 "nbformat_minor": 2
}
