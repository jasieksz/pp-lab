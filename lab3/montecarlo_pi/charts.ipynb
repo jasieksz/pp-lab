{
 "cells": [
  {
   "cell_type": "code",
   "execution_count": 4,
   "metadata": {},
   "outputs": [],
   "source": [
    "import pandas as pd\n",
    "import numpy as np \n",
    "import seaborn as sns\n",
    "from matplotlib import pyplot as plt"
   ]
  },
  {
   "cell_type": "markdown",
   "metadata": {},
   "source": [
    "# REGULAR"
   ]
  },
  {
   "cell_type": "code",
   "execution_count": 28,
   "metadata": {},
   "outputs": [
    {
     "data": {
      "text/html": [
       "<div>\n",
       "<style scoped>\n",
       "    .dataframe tbody tr th:only-of-type {\n",
       "        vertical-align: middle;\n",
       "    }\n",
       "\n",
       "    .dataframe tbody tr th {\n",
       "        vertical-align: top;\n",
       "    }\n",
       "\n",
       "    .dataframe thead th {\n",
       "        text-align: right;\n",
       "    }\n",
       "</style>\n",
       "<table border=\"1\" class=\"dataframe\">\n",
       "  <thead>\n",
       "    <tr style=\"text-align: right;\">\n",
       "      <th></th>\n",
       "      <th>mode</th>\n",
       "      <th>CPU</th>\n",
       "      <th>size</th>\n",
       "      <th>time</th>\n",
       "      <th>pi</th>\n",
       "      <th>speedup</th>\n",
       "      <th>efficiency</th>\n",
       "      <th>karp</th>\n",
       "    </tr>\n",
       "  </thead>\n",
       "  <tbody>\n",
       "    <tr>\n",
       "      <th>0</th>\n",
       "      <td>regular</td>\n",
       "      <td>1</td>\n",
       "      <td>7</td>\n",
       "      <td>8.779150</td>\n",
       "      <td>3.141711</td>\n",
       "      <td>1.000000</td>\n",
       "      <td>1.000000</td>\n",
       "      <td>0.000000</td>\n",
       "    </tr>\n",
       "    <tr>\n",
       "      <th>1</th>\n",
       "      <td>regular</td>\n",
       "      <td>2</td>\n",
       "      <td>7</td>\n",
       "      <td>6.242070</td>\n",
       "      <td>3.141157</td>\n",
       "      <td>1.406449</td>\n",
       "      <td>0.703224</td>\n",
       "      <td>0.422021</td>\n",
       "    </tr>\n",
       "    <tr>\n",
       "      <th>2</th>\n",
       "      <td>regular</td>\n",
       "      <td>3</td>\n",
       "      <td>7</td>\n",
       "      <td>4.167932</td>\n",
       "      <td>3.140656</td>\n",
       "      <td>2.106356</td>\n",
       "      <td>0.702119</td>\n",
       "      <td>0.212130</td>\n",
       "    </tr>\n",
       "    <tr>\n",
       "      <th>3</th>\n",
       "      <td>regular</td>\n",
       "      <td>4</td>\n",
       "      <td>7</td>\n",
       "      <td>3.236894</td>\n",
       "      <td>3.141586</td>\n",
       "      <td>2.712214</td>\n",
       "      <td>0.678054</td>\n",
       "      <td>0.158270</td>\n",
       "    </tr>\n",
       "    <tr>\n",
       "      <th>4</th>\n",
       "      <td>regular</td>\n",
       "      <td>5</td>\n",
       "      <td>7</td>\n",
       "      <td>2.599096</td>\n",
       "      <td>3.141655</td>\n",
       "      <td>3.377771</td>\n",
       "      <td>0.675554</td>\n",
       "      <td>0.120067</td>\n",
       "    </tr>\n",
       "    <tr>\n",
       "      <th>5</th>\n",
       "      <td>regular</td>\n",
       "      <td>6</td>\n",
       "      <td>7</td>\n",
       "      <td>2.237984</td>\n",
       "      <td>3.141499</td>\n",
       "      <td>3.922794</td>\n",
       "      <td>0.653799</td>\n",
       "      <td>0.105904</td>\n",
       "    </tr>\n",
       "    <tr>\n",
       "      <th>6</th>\n",
       "      <td>regular</td>\n",
       "      <td>7</td>\n",
       "      <td>7</td>\n",
       "      <td>2.001966</td>\n",
       "      <td>3.141652</td>\n",
       "      <td>4.385264</td>\n",
       "      <td>0.626466</td>\n",
       "      <td>0.099376</td>\n",
       "    </tr>\n",
       "    <tr>\n",
       "      <th>7</th>\n",
       "      <td>regular</td>\n",
       "      <td>8</td>\n",
       "      <td>7</td>\n",
       "      <td>1.801673</td>\n",
       "      <td>3.141659</td>\n",
       "      <td>4.872777</td>\n",
       "      <td>0.609097</td>\n",
       "      <td>0.091682</td>\n",
       "    </tr>\n",
       "    <tr>\n",
       "      <th>8</th>\n",
       "      <td>regular</td>\n",
       "      <td>9</td>\n",
       "      <td>7</td>\n",
       "      <td>1.552931</td>\n",
       "      <td>3.142190</td>\n",
       "      <td>5.653277</td>\n",
       "      <td>0.628142</td>\n",
       "      <td>0.074000</td>\n",
       "    </tr>\n",
       "    <tr>\n",
       "      <th>9</th>\n",
       "      <td>regular</td>\n",
       "      <td>10</td>\n",
       "      <td>7</td>\n",
       "      <td>1.509584</td>\n",
       "      <td>3.141753</td>\n",
       "      <td>5.815609</td>\n",
       "      <td>0.581561</td>\n",
       "      <td>0.079946</td>\n",
       "    </tr>\n",
       "    <tr>\n",
       "      <th>10</th>\n",
       "      <td>regular</td>\n",
       "      <td>11</td>\n",
       "      <td>7</td>\n",
       "      <td>1.316586</td>\n",
       "      <td>3.141554</td>\n",
       "      <td>6.668117</td>\n",
       "      <td>0.606192</td>\n",
       "      <td>0.064964</td>\n",
       "    </tr>\n",
       "    <tr>\n",
       "      <th>11</th>\n",
       "      <td>regular</td>\n",
       "      <td>12</td>\n",
       "      <td>7</td>\n",
       "      <td>1.190651</td>\n",
       "      <td>3.142524</td>\n",
       "      <td>7.373404</td>\n",
       "      <td>0.614450</td>\n",
       "      <td>0.057043</td>\n",
       "    </tr>\n",
       "    <tr>\n",
       "      <th>12</th>\n",
       "      <td>regular</td>\n",
       "      <td>1</td>\n",
       "      <td>8</td>\n",
       "      <td>88.866145</td>\n",
       "      <td>3.141531</td>\n",
       "      <td>1.000000</td>\n",
       "      <td>1.000000</td>\n",
       "      <td>0.000000</td>\n",
       "    </tr>\n",
       "    <tr>\n",
       "      <th>13</th>\n",
       "      <td>regular</td>\n",
       "      <td>2</td>\n",
       "      <td>8</td>\n",
       "      <td>63.441995</td>\n",
       "      <td>3.141639</td>\n",
       "      <td>1.400746</td>\n",
       "      <td>0.700373</td>\n",
       "      <td>0.427810</td>\n",
       "    </tr>\n",
       "    <tr>\n",
       "      <th>14</th>\n",
       "      <td>regular</td>\n",
       "      <td>3</td>\n",
       "      <td>8</td>\n",
       "      <td>40.735094</td>\n",
       "      <td>3.141632</td>\n",
       "      <td>2.181562</td>\n",
       "      <td>0.727187</td>\n",
       "      <td>0.187581</td>\n",
       "    </tr>\n",
       "    <tr>\n",
       "      <th>15</th>\n",
       "      <td>regular</td>\n",
       "      <td>4</td>\n",
       "      <td>8</td>\n",
       "      <td>31.799257</td>\n",
       "      <td>3.141759</td>\n",
       "      <td>2.794598</td>\n",
       "      <td>0.698650</td>\n",
       "      <td>0.143778</td>\n",
       "    </tr>\n",
       "    <tr>\n",
       "      <th>16</th>\n",
       "      <td>regular</td>\n",
       "      <td>5</td>\n",
       "      <td>8</td>\n",
       "      <td>26.572506</td>\n",
       "      <td>3.141593</td>\n",
       "      <td>3.344289</td>\n",
       "      <td>0.668858</td>\n",
       "      <td>0.123772</td>\n",
       "    </tr>\n",
       "    <tr>\n",
       "      <th>17</th>\n",
       "      <td>regular</td>\n",
       "      <td>6</td>\n",
       "      <td>8</td>\n",
       "      <td>22.063229</td>\n",
       "      <td>3.141418</td>\n",
       "      <td>4.027794</td>\n",
       "      <td>0.671299</td>\n",
       "      <td>0.097930</td>\n",
       "    </tr>\n",
       "    <tr>\n",
       "      <th>18</th>\n",
       "      <td>regular</td>\n",
       "      <td>7</td>\n",
       "      <td>8</td>\n",
       "      <td>19.478613</td>\n",
       "      <td>3.141884</td>\n",
       "      <td>4.562242</td>\n",
       "      <td>0.651749</td>\n",
       "      <td>0.089056</td>\n",
       "    </tr>\n",
       "    <tr>\n",
       "      <th>19</th>\n",
       "      <td>regular</td>\n",
       "      <td>8</td>\n",
       "      <td>8</td>\n",
       "      <td>18.177891</td>\n",
       "      <td>3.141541</td>\n",
       "      <td>4.888694</td>\n",
       "      <td>0.611087</td>\n",
       "      <td>0.090918</td>\n",
       "    </tr>\n",
       "    <tr>\n",
       "      <th>20</th>\n",
       "      <td>regular</td>\n",
       "      <td>9</td>\n",
       "      <td>8</td>\n",
       "      <td>15.695262</td>\n",
       "      <td>3.141766</td>\n",
       "      <td>5.661973</td>\n",
       "      <td>0.629108</td>\n",
       "      <td>0.073694</td>\n",
       "    </tr>\n",
       "    <tr>\n",
       "      <th>21</th>\n",
       "      <td>regular</td>\n",
       "      <td>10</td>\n",
       "      <td>8</td>\n",
       "      <td>13.824763</td>\n",
       "      <td>3.141523</td>\n",
       "      <td>6.428041</td>\n",
       "      <td>0.642804</td>\n",
       "      <td>0.061743</td>\n",
       "    </tr>\n",
       "    <tr>\n",
       "      <th>22</th>\n",
       "      <td>regular</td>\n",
       "      <td>11</td>\n",
       "      <td>8</td>\n",
       "      <td>12.789638</td>\n",
       "      <td>3.141624</td>\n",
       "      <td>6.948292</td>\n",
       "      <td>0.631663</td>\n",
       "      <td>0.058312</td>\n",
       "    </tr>\n",
       "    <tr>\n",
       "      <th>23</th>\n",
       "      <td>regular</td>\n",
       "      <td>12</td>\n",
       "      <td>8</td>\n",
       "      <td>11.868080</td>\n",
       "      <td>3.141542</td>\n",
       "      <td>7.487828</td>\n",
       "      <td>0.623986</td>\n",
       "      <td>0.054782</td>\n",
       "    </tr>\n",
       "  </tbody>\n",
       "</table>\n",
       "</div>"
      ],
      "text/plain": [
       "       mode  CPU  size       time        pi   speedup  efficiency      karp\n",
       "0   regular    1     7   8.779150  3.141711  1.000000    1.000000  0.000000\n",
       "1   regular    2     7   6.242070  3.141157  1.406449    0.703224  0.422021\n",
       "2   regular    3     7   4.167932  3.140656  2.106356    0.702119  0.212130\n",
       "3   regular    4     7   3.236894  3.141586  2.712214    0.678054  0.158270\n",
       "4   regular    5     7   2.599096  3.141655  3.377771    0.675554  0.120067\n",
       "5   regular    6     7   2.237984  3.141499  3.922794    0.653799  0.105904\n",
       "6   regular    7     7   2.001966  3.141652  4.385264    0.626466  0.099376\n",
       "7   regular    8     7   1.801673  3.141659  4.872777    0.609097  0.091682\n",
       "8   regular    9     7   1.552931  3.142190  5.653277    0.628142  0.074000\n",
       "9   regular   10     7   1.509584  3.141753  5.815609    0.581561  0.079946\n",
       "10  regular   11     7   1.316586  3.141554  6.668117    0.606192  0.064964\n",
       "11  regular   12     7   1.190651  3.142524  7.373404    0.614450  0.057043\n",
       "12  regular    1     8  88.866145  3.141531  1.000000    1.000000  0.000000\n",
       "13  regular    2     8  63.441995  3.141639  1.400746    0.700373  0.427810\n",
       "14  regular    3     8  40.735094  3.141632  2.181562    0.727187  0.187581\n",
       "15  regular    4     8  31.799257  3.141759  2.794598    0.698650  0.143778\n",
       "16  regular    5     8  26.572506  3.141593  3.344289    0.668858  0.123772\n",
       "17  regular    6     8  22.063229  3.141418  4.027794    0.671299  0.097930\n",
       "18  regular    7     8  19.478613  3.141884  4.562242    0.651749  0.089056\n",
       "19  regular    8     8  18.177891  3.141541  4.888694    0.611087  0.090918\n",
       "20  regular    9     8  15.695262  3.141766  5.661973    0.629108  0.073694\n",
       "21  regular   10     8  13.824763  3.141523  6.428041    0.642804  0.061743\n",
       "22  regular   11     8  12.789638  3.141624  6.948292    0.631663  0.058312\n",
       "23  regular   12     8  11.868080  3.141542  7.487828    0.623986  0.054782"
      ]
     },
     "execution_count": 28,
     "metadata": {},
     "output_type": "execute_result"
    }
   ],
   "source": [
    "path = 'results/reg.csv'\n",
    "df = pd.read_csv(path)\n",
    "\n",
    "serial_times = list(df.groupby(\"size\")[\"time\"].max())\n",
    "t = [list(e[1]) for e in list(df.groupby(\"size\")[\"time\"])]\n",
    "speedup = np.array([np.ones(12) / np.array(t[i]) * serial_times[i] for i in range(len(serial_times))]).reshape(-1)\n",
    "df[\"speedup\"] = speedup\n",
    "\n",
    "df[\"efficiency\"] = df[\"speedup\"] / df[\"CPU\"]\n",
    "\n",
    "df[\"karp\"] = (1 / df[\"speedup\"] - 1 / df[\"CPU\"]) / (1 - 1 / df[\"CPU\"])\n",
    "df = df.replace([np.inf, -np.inf], np.nan)\n",
    "df = df.fillna(0.0)\n",
    "df"
   ]
  },
  {
   "cell_type": "markdown",
   "metadata": {},
   "source": [
    "### TIME"
   ]
  },
  {
   "cell_type": "code",
   "execution_count": 6,
   "metadata": {},
   "outputs": [
    {
     "data": {
      "image/png": "[encoded data removed]",
      "text/plain": [
       "<Figure size 720x360 with 2 Axes>"
      ]
     },
     "metadata": {
      "needs_background": "light"
     },
     "output_type": "display_data"
    }
   ],
   "source": [
    "g = sns.FacetGrid(df, col=\"size\", height=5)\n",
    "g = (g.map(plt.scatter, \"CPU\", \"time\")\n",
    "        .set_titles(\"Time vs CPU - 10^{col_name} points\")\n",
    "        .set_xlabels(\"CPUs\")\n",
    "        .set_ylabels(\"Time [s]\"))\n",
    "# g.set(xticks=[1,2,3,4])"
   ]
  },
  {
   "cell_type": "markdown",
   "metadata": {},
   "source": [
    "### SPEEDUP"
   ]
  },
  {
   "cell_type": "code",
   "execution_count": 9,
   "metadata": {},
   "outputs": [
    {
     "data": {
      "text/plain": [
       "<seaborn.axisgrid.FacetGrid at 0x7f492ce8c320>"
      ]
     },
     "execution_count": 9,
     "metadata": {},
     "output_type": "execute_result"
    },
    {
     "data": {
      "image/png": "[encoded data removed]",
      "text/plain": [
       "<Figure size 720x360 with 2 Axes>"
      ]
     },
     "metadata": {
      "needs_background": "light"
     },
     "output_type": "display_data"
    }
   ],
   "source": [
    "g = sns.FacetGrid(df, col=\"size\", height=5)\n",
    "g = (g.map(plt.scatter, \"CPU\", \"speedup\")\n",
    "        .set_titles(\"Speedup - 10^{col_name} points\")\n",
    "        .set_xlabels(\"CPUs\")\n",
    "        .set_ylabels(\"Speedup [ts / tp]\"))\n",
    "g.set(xticks=list(range(1,13)))"
   ]
  },
  {
   "cell_type": "markdown",
   "metadata": {},
   "source": [
    "### EFFICIENCY"
   ]
  },
  {
   "cell_type": "code",
   "execution_count": 10,
   "metadata": {
    "scrolled": false
   },
   "outputs": [
    {
     "data": {
      "text/plain": [
       "<seaborn.axisgrid.FacetGrid at 0x7f492cd946a0>"
      ]
     },
     "execution_count": 10,
     "metadata": {},
     "output_type": "execute_result"
    },
    {
     "data": {
      "image/png": "[encoded data removed]",
      "text/plain": [
       "<Figure size 720x360 with 2 Axes>"
      ]
     },
     "metadata": {
      "needs_background": "light"
     },
     "output_type": "display_data"
    }
   ],
   "source": [
    "g = sns.FacetGrid(df, col=\"size\", height=5)\n",
    "g = (g.map(plt.scatter, \"CPU\", \"efficiency\")\n",
    "        .set_titles(\"Efficiency - 10^{col_name} points\")\n",
    "        .set_xlabels(\"CPUs\")\n",
    "        .set_ylabels(\"Efficiency [ts / tp]\"))\n",
    "g.set(xticks=list(range(1,13)))"
   ]
  },
  {
   "cell_type": "markdown",
   "metadata": {},
   "source": [
    "### SERIAL FRACTION"
   ]
  },
  {
   "cell_type": "code",
   "execution_count": 29,
   "metadata": {},
   "outputs": [
    {
     "data": {
      "text/plain": [
       "<seaborn.axisgrid.FacetGrid at 0x7f492c428128>"
      ]
     },
     "execution_count": 29,
     "metadata": {},
     "output_type": "execute_result"
    },
    {
     "data": {
      "image/png": "[encoded data removed]",
      "text/plain": [
       "<Figure size 720x360 with 2 Axes>"
      ]
     },
     "metadata": {
      "needs_background": "light"
     },
     "output_type": "display_data"
    }
   ],
   "source": [
    "g = sns.FacetGrid(df, col=\"size\", height=5)\n",
    "g = (g.map(plt.scatter, \"CPU\", \"karp\")\n",
    "        .set_titles(\"Efficiency - 10^{col_name} points\")\n",
    "        .set_xlabels(\"CPUs\")\n",
    "        .set_ylabels(\"Serial fraction (karp)\"))\n",
    "g.set(xlim=(1.5, None))\n",
    "g.set(xticks=list(range(2,13)))"
   ]
  },
  {
   "cell_type": "markdown",
   "metadata": {},
   "source": [
    "# SCALED"
   ]
  },
  {
   "cell_type": "code",
   "execution_count": 35,
   "metadata": {},
   "outputs": [
    {
     "name": "stdout",
     "output_type": "stream",
     "text": [
      "[9.10637497902, 89.02119398120001]\n"
     ]
    },
    {
     "data": {
      "text/html": [
       "<div>\n",
       "<style scoped>\n",
       "    .dataframe tbody tr th:only-of-type {\n",
       "        vertical-align: middle;\n",
       "    }\n",
       "\n",
       "    .dataframe tbody tr th {\n",
       "        vertical-align: top;\n",
       "    }\n",
       "\n",
       "    .dataframe thead th {\n",
       "        text-align: right;\n",
       "    }\n",
       "</style>\n",
       "<table border=\"1\" class=\"dataframe\">\n",
       "  <thead>\n",
       "    <tr style=\"text-align: right;\">\n",
       "      <th></th>\n",
       "      <th>mode</th>\n",
       "      <th>CPU</th>\n",
       "      <th>size</th>\n",
       "      <th>time</th>\n",
       "      <th>pi</th>\n",
       "      <th>speedup</th>\n",
       "      <th>efficiency</th>\n",
       "      <th>karp</th>\n",
       "    </tr>\n",
       "  </thead>\n",
       "  <tbody>\n",
       "    <tr>\n",
       "      <th>0</th>\n",
       "      <td>scale</td>\n",
       "      <td>1</td>\n",
       "      <td>7</td>\n",
       "      <td>9.106375</td>\n",
       "      <td>3.142147</td>\n",
       "      <td>1.000000</td>\n",
       "      <td>1.000000</td>\n",
       "      <td>0.000000</td>\n",
       "    </tr>\n",
       "    <tr>\n",
       "      <th>1</th>\n",
       "      <td>scale</td>\n",
       "      <td>2</td>\n",
       "      <td>7</td>\n",
       "      <td>12.784282</td>\n",
       "      <td>3.141045</td>\n",
       "      <td>1.424620</td>\n",
       "      <td>0.712310</td>\n",
       "      <td>0.403883</td>\n",
       "    </tr>\n",
       "    <tr>\n",
       "      <th>2</th>\n",
       "      <td>scale</td>\n",
       "      <td>3</td>\n",
       "      <td>7</td>\n",
       "      <td>12.551913</td>\n",
       "      <td>3.141857</td>\n",
       "      <td>2.176491</td>\n",
       "      <td>0.725497</td>\n",
       "      <td>0.189183</td>\n",
       "    </tr>\n",
       "    <tr>\n",
       "      <th>3</th>\n",
       "      <td>scale</td>\n",
       "      <td>4</td>\n",
       "      <td>7</td>\n",
       "      <td>12.740306</td>\n",
       "      <td>3.141573</td>\n",
       "      <td>2.859076</td>\n",
       "      <td>0.714769</td>\n",
       "      <td>0.133018</td>\n",
       "    </tr>\n",
       "    <tr>\n",
       "      <th>4</th>\n",
       "      <td>scale</td>\n",
       "      <td>5</td>\n",
       "      <td>7</td>\n",
       "      <td>12.913189</td>\n",
       "      <td>3.141712</td>\n",
       "      <td>3.525998</td>\n",
       "      <td>0.705200</td>\n",
       "      <td>0.104510</td>\n",
       "    </tr>\n",
       "    <tr>\n",
       "      <th>5</th>\n",
       "      <td>scale</td>\n",
       "      <td>6</td>\n",
       "      <td>7</td>\n",
       "      <td>13.071533</td>\n",
       "      <td>3.141886</td>\n",
       "      <td>4.179942</td>\n",
       "      <td>0.696657</td>\n",
       "      <td>0.087085</td>\n",
       "    </tr>\n",
       "    <tr>\n",
       "      <th>6</th>\n",
       "      <td>scale</td>\n",
       "      <td>7</td>\n",
       "      <td>7</td>\n",
       "      <td>13.553018</td>\n",
       "      <td>3.141592</td>\n",
       "      <td>4.703353</td>\n",
       "      <td>0.671908</td>\n",
       "      <td>0.081383</td>\n",
       "    </tr>\n",
       "    <tr>\n",
       "      <th>7</th>\n",
       "      <td>scale</td>\n",
       "      <td>8</td>\n",
       "      <td>7</td>\n",
       "      <td>13.999864</td>\n",
       "      <td>3.141405</td>\n",
       "      <td>5.203693</td>\n",
       "      <td>0.650462</td>\n",
       "      <td>0.076767</td>\n",
       "    </tr>\n",
       "    <tr>\n",
       "      <th>8</th>\n",
       "      <td>scale</td>\n",
       "      <td>9</td>\n",
       "      <td>7</td>\n",
       "      <td>13.978681</td>\n",
       "      <td>3.141465</td>\n",
       "      <td>5.863026</td>\n",
       "      <td>0.651447</td>\n",
       "      <td>0.066880</td>\n",
       "    </tr>\n",
       "    <tr>\n",
       "      <th>9</th>\n",
       "      <td>scale</td>\n",
       "      <td>10</td>\n",
       "      <td>7</td>\n",
       "      <td>14.163185</td>\n",
       "      <td>3.141268</td>\n",
       "      <td>6.429610</td>\n",
       "      <td>0.642961</td>\n",
       "      <td>0.061700</td>\n",
       "    </tr>\n",
       "    <tr>\n",
       "      <th>10</th>\n",
       "      <td>scale</td>\n",
       "      <td>11</td>\n",
       "      <td>7</td>\n",
       "      <td>14.667360</td>\n",
       "      <td>3.141473</td>\n",
       "      <td>6.829458</td>\n",
       "      <td>0.620860</td>\n",
       "      <td>0.061067</td>\n",
       "    </tr>\n",
       "    <tr>\n",
       "      <th>11</th>\n",
       "      <td>scale</td>\n",
       "      <td>12</td>\n",
       "      <td>7</td>\n",
       "      <td>14.612024</td>\n",
       "      <td>3.141742</td>\n",
       "      <td>7.478533</td>\n",
       "      <td>0.623211</td>\n",
       "      <td>0.054963</td>\n",
       "    </tr>\n",
       "    <tr>\n",
       "      <th>12</th>\n",
       "      <td>scale</td>\n",
       "      <td>1</td>\n",
       "      <td>8</td>\n",
       "      <td>89.021194</td>\n",
       "      <td>3.141448</td>\n",
       "      <td>1.000000</td>\n",
       "      <td>1.000000</td>\n",
       "      <td>0.000000</td>\n",
       "    </tr>\n",
       "    <tr>\n",
       "      <th>13</th>\n",
       "      <td>scale</td>\n",
       "      <td>2</td>\n",
       "      <td>8</td>\n",
       "      <td>126.720957</td>\n",
       "      <td>3.141449</td>\n",
       "      <td>1.404996</td>\n",
       "      <td>0.702498</td>\n",
       "      <td>0.423492</td>\n",
       "    </tr>\n",
       "    <tr>\n",
       "      <th>14</th>\n",
       "      <td>scale</td>\n",
       "      <td>3</td>\n",
       "      <td>8</td>\n",
       "      <td>125.378522</td>\n",
       "      <td>3.141572</td>\n",
       "      <td>2.130058</td>\n",
       "      <td>0.710019</td>\n",
       "      <td>0.204206</td>\n",
       "    </tr>\n",
       "    <tr>\n",
       "      <th>15</th>\n",
       "      <td>scale</td>\n",
       "      <td>4</td>\n",
       "      <td>8</td>\n",
       "      <td>132.796642</td>\n",
       "      <td>3.141717</td>\n",
       "      <td>2.681429</td>\n",
       "      <td>0.670357</td>\n",
       "      <td>0.163914</td>\n",
       "    </tr>\n",
       "    <tr>\n",
       "      <th>16</th>\n",
       "      <td>scale</td>\n",
       "      <td>5</td>\n",
       "      <td>8</td>\n",
       "      <td>89.021194</td>\n",
       "      <td>3.141448</td>\n",
       "      <td>5.000000</td>\n",
       "      <td>1.000000</td>\n",
       "      <td>0.000000</td>\n",
       "    </tr>\n",
       "    <tr>\n",
       "      <th>17</th>\n",
       "      <td>scale</td>\n",
       "      <td>6</td>\n",
       "      <td>8</td>\n",
       "      <td>126.720957</td>\n",
       "      <td>3.141449</td>\n",
       "      <td>4.214987</td>\n",
       "      <td>0.702498</td>\n",
       "      <td>0.084698</td>\n",
       "    </tr>\n",
       "    <tr>\n",
       "      <th>18</th>\n",
       "      <td>scale</td>\n",
       "      <td>7</td>\n",
       "      <td>8</td>\n",
       "      <td>125.378522</td>\n",
       "      <td>3.141572</td>\n",
       "      <td>4.970136</td>\n",
       "      <td>0.710019</td>\n",
       "      <td>0.068069</td>\n",
       "    </tr>\n",
       "    <tr>\n",
       "      <th>19</th>\n",
       "      <td>scale</td>\n",
       "      <td>8</td>\n",
       "      <td>8</td>\n",
       "      <td>132.796642</td>\n",
       "      <td>3.141717</td>\n",
       "      <td>5.362858</td>\n",
       "      <td>0.670357</td>\n",
       "      <td>0.070249</td>\n",
       "    </tr>\n",
       "    <tr>\n",
       "      <th>20</th>\n",
       "      <td>scale</td>\n",
       "      <td>9</td>\n",
       "      <td>8</td>\n",
       "      <td>89.021194</td>\n",
       "      <td>3.141448</td>\n",
       "      <td>9.000000</td>\n",
       "      <td>1.000000</td>\n",
       "      <td>0.000000</td>\n",
       "    </tr>\n",
       "    <tr>\n",
       "      <th>21</th>\n",
       "      <td>scale</td>\n",
       "      <td>10</td>\n",
       "      <td>8</td>\n",
       "      <td>126.720957</td>\n",
       "      <td>3.141449</td>\n",
       "      <td>7.024978</td>\n",
       "      <td>0.702498</td>\n",
       "      <td>0.047055</td>\n",
       "    </tr>\n",
       "    <tr>\n",
       "      <th>22</th>\n",
       "      <td>scale</td>\n",
       "      <td>11</td>\n",
       "      <td>8</td>\n",
       "      <td>125.378522</td>\n",
       "      <td>3.141572</td>\n",
       "      <td>7.810214</td>\n",
       "      <td>0.710019</td>\n",
       "      <td>0.040841</td>\n",
       "    </tr>\n",
       "    <tr>\n",
       "      <th>23</th>\n",
       "      <td>scale</td>\n",
       "      <td>12</td>\n",
       "      <td>8</td>\n",
       "      <td>132.796642</td>\n",
       "      <td>3.141717</td>\n",
       "      <td>8.044287</td>\n",
       "      <td>0.670357</td>\n",
       "      <td>0.044704</td>\n",
       "    </tr>\n",
       "  </tbody>\n",
       "</table>\n",
       "</div>"
      ],
      "text/plain": [
       "     mode  CPU  size        time        pi   speedup  efficiency      karp\n",
       "0   scale    1     7    9.106375  3.142147  1.000000    1.000000  0.000000\n",
       "1   scale    2     7   12.784282  3.141045  1.424620    0.712310  0.403883\n",
       "2   scale    3     7   12.551913  3.141857  2.176491    0.725497  0.189183\n",
       "3   scale    4     7   12.740306  3.141573  2.859076    0.714769  0.133018\n",
       "4   scale    5     7   12.913189  3.141712  3.525998    0.705200  0.104510\n",
       "5   scale    6     7   13.071533  3.141886  4.179942    0.696657  0.087085\n",
       "6   scale    7     7   13.553018  3.141592  4.703353    0.671908  0.081383\n",
       "7   scale    8     7   13.999864  3.141405  5.203693    0.650462  0.076767\n",
       "8   scale    9     7   13.978681  3.141465  5.863026    0.651447  0.066880\n",
       "9   scale   10     7   14.163185  3.141268  6.429610    0.642961  0.061700\n",
       "10  scale   11     7   14.667360  3.141473  6.829458    0.620860  0.061067\n",
       "11  scale   12     7   14.612024  3.141742  7.478533    0.623211  0.054963\n",
       "12  scale    1     8   89.021194  3.141448  1.000000    1.000000  0.000000\n",
       "13  scale    2     8  126.720957  3.141449  1.404996    0.702498  0.423492\n",
       "14  scale    3     8  125.378522  3.141572  2.130058    0.710019  0.204206\n",
       "15  scale    4     8  132.796642  3.141717  2.681429    0.670357  0.163914\n",
       "16  scale    5     8   89.021194  3.141448  5.000000    1.000000  0.000000\n",
       "17  scale    6     8  126.720957  3.141449  4.214987    0.702498  0.084698\n",
       "18  scale    7     8  125.378522  3.141572  4.970136    0.710019  0.068069\n",
       "19  scale    8     8  132.796642  3.141717  5.362858    0.670357  0.070249\n",
       "20  scale    9     8   89.021194  3.141448  9.000000    1.000000  0.000000\n",
       "21  scale   10     8  126.720957  3.141449  7.024978    0.702498  0.047055\n",
       "22  scale   11     8  125.378522  3.141572  7.810214    0.710019  0.040841\n",
       "23  scale   12     8  132.796642  3.141717  8.044287    0.670357  0.044704"
      ]
     },
     "execution_count": 35,
     "metadata": {},
     "output_type": "execute_result"
    }
   ],
   "source": [
    "path = 'results/scale.csv'\n",
    "df = pd.read_csv(path)\n",
    "\n",
    "serial_times = list(df.groupby(\"size\")[\"time\"].min())\n",
    "t = [list(e[1]) for e in list(df.groupby(\"size\")[\"time\"])]\n",
    "print(serial_times)\n",
    "speedup = np.array([np.ones(12) / np.array(t[i]) * serial_times[i] for i in range(len(serial_times))]).reshape(-1)\n",
    "df[\"speedup\"] = speedup * df[\"CPU\"]\n",
    "\n",
    "df[\"efficiency\"] = df[\"speedup\"] / df[\"CPU\"]\n",
    "\n",
    "df[\"karp\"] = (1 / df[\"speedup\"] - 1 / df[\"CPU\"]) / (1 - 1 / df[\"CPU\"])\n",
    "df = df.replace([np.inf, -np.inf], np.nan)\n",
    "df = df.fillna(0.0)\n",
    "df"
   ]
  },
  {
   "cell_type": "markdown",
   "metadata": {},
   "source": [
    "### TIME"
   ]
  },
  {
   "cell_type": "code",
   "execution_count": 36,
   "metadata": {},
   "outputs": [
    {
     "data": {
      "text/plain": [
       "<seaborn.axisgrid.FacetGrid at 0x7f492bfd9dd8>"
      ]
     },
     "execution_count": 36,
     "metadata": {},
     "output_type": "execute_result"
    },
    {
     "data": {
      "image/png": "[encoded data removed]",
      "text/plain": [
       "<Figure size 720x360 with 2 Axes>"
      ]
     },
     "metadata": {
      "needs_background": "light"
     },
     "output_type": "display_data"
    }
   ],
   "source": [
    "g = sns.FacetGrid(df, col=\"size\", height=5)\n",
    "g = (g.map(plt.scatter, \"CPU\", \"time\")\n",
    "        .set_titles(\"Time vs CPU - 10^{col_name} points\")\n",
    "        .set_xlabels(\"CPUs\")\n",
    "        .set_ylabels(\"Time [s]\"))\n",
    "g.set(xticks=list(range(1,13)))"
   ]
  },
  {
   "cell_type": "markdown",
   "metadata": {},
   "source": [
    "### SPEEDUP"
   ]
  },
  {
   "cell_type": "code",
   "execution_count": 37,
   "metadata": {},
   "outputs": [
    {
     "data": {
      "text/plain": [
       "<seaborn.axisgrid.FacetGrid at 0x7f492bf636d8>"
      ]
     },
     "execution_count": 37,
     "metadata": {},
     "output_type": "execute_result"
    },
    {
     "data": {
      "image/png": "[encoded data removed]",
      "text/plain": [
       "<Figure size 720x360 with 2 Axes>"
      ]
     },
     "metadata": {
      "needs_background": "light"
     },
     "output_type": "display_data"
    }
   ],
   "source": [
    "g = sns.FacetGrid(df, col=\"size\", height=5)\n",
    "g = (g.map(plt.scatter, \"CPU\", \"speedup\")\n",
    "        .set_titles(\"Speedup - 10^{col_name} points\")\n",
    "        .set_xlabels(\"CPUs\")\n",
    "        .set_ylabels(\"Speedup [ts / tp]\"))\n",
    "g.set(xticks=list(range(1,13)))"
   ]
  },
  {
   "cell_type": "markdown",
   "metadata": {},
   "source": [
    "### EFFICIENCY"
   ]
  },
  {
   "cell_type": "code",
   "execution_count": 38,
   "metadata": {},
   "outputs": [
    {
     "data": {
      "text/plain": [
       "<seaborn.axisgrid.FacetGrid at 0x7f492be1b8d0>"
      ]
     },
     "execution_count": 38,
     "metadata": {},
     "output_type": "execute_result"
    },
    {
     "data": {
      "image/png": "[encoded data removed]",
      "text/plain": [
       "<Figure size 720x360 with 2 Axes>"
      ]
     },
     "metadata": {
      "needs_background": "light"
     },
     "output_type": "display_data"
    }
   ],
   "source": [
    "g = sns.FacetGrid(df, col=\"size\",height=5)\n",
    "g = (g.map(plt.scatter, \"CPU\", \"efficiency\")\n",
    "        .set_titles(\"Efficiency - 10^{col_name} points\")\n",
    "        .set_xlabels(\"CPUs\")\n",
    "        .set_ylabels(\"Efficiency [ts / tp]\"))\n",
    "g.set(xticks=list(range(1,13)))"
   ]
  },
  {
   "cell_type": "markdown",
   "metadata": {},
   "source": [
    "### SERIAL FRACTION"
   ]
  },
  {
   "cell_type": "code",
   "execution_count": 39,
   "metadata": {},
   "outputs": [
    {
     "data": {
      "text/plain": [
       "<seaborn.axisgrid.FacetGrid at 0x7f492bdb0320>"
      ]
     },
     "execution_count": 39,
     "metadata": {},
     "output_type": "execute_result"
    },
    {
     "data": {
      "image/png": "[encoded data removed]",
      "text/plain": [
       "<Figure size 720x360 with 2 Axes>"
      ]
     },
     "metadata": {
      "needs_background": "light"
     },
     "output_type": "display_data"
    }
   ],
   "source": [
    "g = sns.FacetGrid(df, col=\"size\", height=5)\n",
    "g = (g.map(plt.scatter, \"CPU\", \"karp\")\n",
    "        .set_titles(\"Efficiency - 10^{col_name} points\")\n",
    "        .set_xlabels(\"CPUs\")\n",
    "        .set_ylabels(\"Efficiency [ts / tp]\"))\n",
    "g.set(xlim=(1.5, None))\n",
    "g.set(xticks=list(range(2,13)))"
   ]
  }
 ],
 "metadata": {
  "file_extension": ".py",
  "kernelspec": {
   "display_name": "Python 3",
   "language": "python",
   "name": "python3"
  },
  "language_info": {
   "codemirror_mode": {
    "name": "ipython",
    "version": 3
   },
   "file_extension": ".py",
   "mimetype": "text/x-python",
   "name": "python",
   "nbconvert_exporter": "python",
   "pygments_lexer": "ipython3",
   "version": "3.7.2"
  },
  "mimetype": "text/x-python",
  "name": "python",
  "npconvert_exporter": "python",
  "pygments_lexer": "ipython3",
  "version": 3
 },
 "nbformat": 4,
 "nbformat_minor": 2
}
